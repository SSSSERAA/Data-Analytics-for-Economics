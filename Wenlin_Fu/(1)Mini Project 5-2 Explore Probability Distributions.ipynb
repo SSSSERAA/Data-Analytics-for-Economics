{
 "cells": [
  {
   "cell_type": "markdown",
   "metadata": {
    "id": "ePeImos0HYMu"
   },
   "source": [
    "# Mini Project 5-2 Explore Probability Distributions"
   ]
  },
  {
   "cell_type": "markdown",
   "metadata": {
    "id": "IpCK6RfdHfW8"
   },
   "source": [
    "## **Introduction**\n",
    "\n",
    "The ability to determine which type of probability distribution best fits data, calculate z-score, and detect outliers are essential skills in data work. These capabilities enable data professionals to understand how their data is distributed and identify data points that need further examination.\n",
    "\n",
    "In this activity, you are a member of an analytics team for the United States Environmental Protection Agency (EPA). The data includes information about more than 200 sites, identified by state, county, city, and local site names. One of your main goals is to determine which regions need support to make air quality improvements. Given that carbon monoxide is a major air pollutant, you will investigate data from the Air Quality Index (AQI) with respect to carbon monoxide."
   ]
  },
  {
   "cell_type": "markdown",
   "metadata": {
    "id": "0HjDwXh3HkpB"
   },
   "source": [
    "## **Step 1: Imports** "
   ]
  },
  {
   "cell_type": "markdown",
   "metadata": {
    "id": "2bqq2KoNMb8q"
   },
   "source": [
    "Import relevant libraries, packages, and modules. For this Project, you will need `numpy`, `pandas`, `matplotlib.pyplot`, `statsmodels.api`, and `scipy`."
   ]
  },
  {
   "cell_type": "code",
   "execution_count": 2,
   "metadata": {
    "id": "GsZlNee8MXP8"
   },
   "outputs": [
    {
     "name": "stdout",
     "output_type": "stream",
     "text": [
      "Requirement already satisfied: scipy in c:\\users\\miss sera\\appdata\\local\\programs\\python\\python313\\lib\\site-packages (1.15.2)\n",
      "Requirement already satisfied: numpy<2.5,>=1.23.5 in c:\\users\\miss sera\\appdata\\local\\programs\\python\\python313\\lib\\site-packages (from scipy) (2.2.3)\n"
     ]
    },
    {
     "name": "stderr",
     "output_type": "stream",
     "text": [
      "\n",
      "[notice] A new release of pip is available: 24.3.1 -> 25.0.1\n",
      "[notice] To update, run: python.exe -m pip install --upgrade pip\n",
      "\n",
      "[notice] A new release of pip is available: 24.3.1 -> 25.0.1\n",
      "[notice] To update, run: python.exe -m pip install --upgrade pip\n"
     ]
    },
    {
     "name": "stdout",
     "output_type": "stream",
     "text": [
      "Requirement already satisfied: statsmodels in c:\\users\\miss sera\\appdata\\local\\programs\\python\\python313\\lib\\site-packages (0.14.4)\n",
      "Requirement already satisfied: numpy<3,>=1.22.3 in c:\\users\\miss sera\\appdata\\local\\programs\\python\\python313\\lib\\site-packages (from statsmodels) (2.2.3)\n",
      "Requirement already satisfied: scipy!=1.9.2,>=1.8 in c:\\users\\miss sera\\appdata\\local\\programs\\python\\python313\\lib\\site-packages (from statsmodels) (1.15.2)\n",
      "Requirement already satisfied: pandas!=2.1.0,>=1.4 in c:\\users\\miss sera\\appdata\\local\\programs\\python\\python313\\lib\\site-packages (from statsmodels) (2.2.3)\n",
      "Requirement already satisfied: patsy>=0.5.6 in c:\\users\\miss sera\\appdata\\local\\programs\\python\\python313\\lib\\site-packages (from statsmodels) (1.0.1)\n",
      "Requirement already satisfied: packaging>=21.3 in c:\\users\\miss sera\\appdata\\roaming\\python\\python313\\site-packages (from statsmodels) (24.2)\n",
      "Requirement already satisfied: python-dateutil>=2.8.2 in c:\\users\\miss sera\\appdata\\roaming\\python\\python313\\site-packages (from pandas!=2.1.0,>=1.4->statsmodels) (2.9.0.post0)\n",
      "Requirement already satisfied: pytz>=2020.1 in c:\\users\\miss sera\\appdata\\local\\programs\\python\\python313\\lib\\site-packages (from pandas!=2.1.0,>=1.4->statsmodels) (2025.1)\n",
      "Requirement already satisfied: tzdata>=2022.7 in c:\\users\\miss sera\\appdata\\local\\programs\\python\\python313\\lib\\site-packages (from pandas!=2.1.0,>=1.4->statsmodels) (2025.1)\n",
      "Requirement already satisfied: six>=1.5 in c:\\users\\miss sera\\appdata\\roaming\\python\\python313\\site-packages (from python-dateutil>=2.8.2->pandas!=2.1.0,>=1.4->statsmodels) (1.17.0)\n"
     ]
    }
   ],
   "source": [
    "# Import relevant libraries, packages, and modules.\n",
    "!pip install scipy\n",
    "!pip install statsmodels\n",
    "import scipy\n",
    "import numpy as np\n",
    "import pandas as pd\n",
    "import matplotlib.pyplot as plt\n",
    "from scipy import stats\n",
    "import statsmodels.api as sm"
   ]
  },
  {
   "cell_type": "markdown",
   "metadata": {
    "id": "jr7pHKQRMjoq"
   },
   "source": [
    "A subset of data was taken from the air quality data collected by the EPA, then transformed to suit the purposes of this lab. This subset is a .csv file named `modified_c4_epa_air_quality.csv`. As shown in this cell, the dataset has been automatically loaded in for you. You do not need to download the .csv file, or provide more code, in order to access the dataset and proceed with this lab. Please continue with this activity by completing the following instructions."
   ]
  },
  {
   "cell_type": "code",
   "execution_count": 3,
   "metadata": {
    "id": "H5ugMTQzNs3K"
   },
   "outputs": [],
   "source": [
    "# RUN THIS CELL TO IMPORT YOUR DATA.\n",
    "modified_air_quality = pd.read_csv('modified_c4_epa_air_quality.csv')\n",
    "modified_air_quality = modified_air_quality.dropna()"
   ]
  },
  {
   "cell_type": "markdown",
   "metadata": {
    "id": "4QfLAVCkHmeQ"
   },
   "source": [
    "## **Step 2: Data exploration** "
   ]
  },
  {
   "cell_type": "markdown",
   "metadata": {
    "id": "fuauZV55QESy"
   },
   "source": [
    "Display the first 10 rows of the data to get a sense of how the data is structured."
   ]
  },
  {
   "cell_type": "code",
   "execution_count": 4,
   "metadata": {
    "id": "ngwYbaEwPjTb"
   },
   "outputs": [
    {
     "data": {
      "text/html": [
       "<div>\n",
       "<style scoped>\n",
       "    .dataframe tbody tr th:only-of-type {\n",
       "        vertical-align: middle;\n",
       "    }\n",
       "\n",
       "    .dataframe tbody tr th {\n",
       "        vertical-align: top;\n",
       "    }\n",
       "\n",
       "    .dataframe thead th {\n",
       "        text-align: right;\n",
       "    }\n",
       "</style>\n",
       "<table border=\"1\" class=\"dataframe\">\n",
       "  <thead>\n",
       "    <tr style=\"text-align: right;\">\n",
       "      <th></th>\n",
       "      <th>date_local</th>\n",
       "      <th>state_name</th>\n",
       "      <th>county_name</th>\n",
       "      <th>city_name</th>\n",
       "      <th>local_site_name</th>\n",
       "      <th>parameter_name</th>\n",
       "      <th>units_of_measure</th>\n",
       "      <th>aqi_log</th>\n",
       "    </tr>\n",
       "  </thead>\n",
       "  <tbody>\n",
       "    <tr>\n",
       "      <th>0</th>\n",
       "      <td>2018-01-01</td>\n",
       "      <td>Arizona</td>\n",
       "      <td>Maricopa</td>\n",
       "      <td>Buckeye</td>\n",
       "      <td>BUCKEYE</td>\n",
       "      <td>Carbon monoxide</td>\n",
       "      <td>Parts per million</td>\n",
       "      <td>2.079442</td>\n",
       "    </tr>\n",
       "    <tr>\n",
       "      <th>1</th>\n",
       "      <td>2018-01-01</td>\n",
       "      <td>Ohio</td>\n",
       "      <td>Belmont</td>\n",
       "      <td>Shadyside</td>\n",
       "      <td>Shadyside</td>\n",
       "      <td>Carbon monoxide</td>\n",
       "      <td>Parts per million</td>\n",
       "      <td>1.791759</td>\n",
       "    </tr>\n",
       "    <tr>\n",
       "      <th>2</th>\n",
       "      <td>2018-01-01</td>\n",
       "      <td>Wyoming</td>\n",
       "      <td>Teton</td>\n",
       "      <td>Not in a city</td>\n",
       "      <td>Yellowstone National Park - Old Faithful Snow ...</td>\n",
       "      <td>Carbon monoxide</td>\n",
       "      <td>Parts per million</td>\n",
       "      <td>1.098612</td>\n",
       "    </tr>\n",
       "    <tr>\n",
       "      <th>3</th>\n",
       "      <td>2018-01-01</td>\n",
       "      <td>Pennsylvania</td>\n",
       "      <td>Philadelphia</td>\n",
       "      <td>Philadelphia</td>\n",
       "      <td>North East Waste (NEW)</td>\n",
       "      <td>Carbon monoxide</td>\n",
       "      <td>Parts per million</td>\n",
       "      <td>1.386294</td>\n",
       "    </tr>\n",
       "    <tr>\n",
       "      <th>4</th>\n",
       "      <td>2018-01-01</td>\n",
       "      <td>Iowa</td>\n",
       "      <td>Polk</td>\n",
       "      <td>Des Moines</td>\n",
       "      <td>CARPENTER</td>\n",
       "      <td>Carbon monoxide</td>\n",
       "      <td>Parts per million</td>\n",
       "      <td>1.386294</td>\n",
       "    </tr>\n",
       "    <tr>\n",
       "      <th>5</th>\n",
       "      <td>2018-01-01</td>\n",
       "      <td>Hawaii</td>\n",
       "      <td>Honolulu</td>\n",
       "      <td>Not in a city</td>\n",
       "      <td>Kapolei</td>\n",
       "      <td>Carbon monoxide</td>\n",
       "      <td>Parts per million</td>\n",
       "      <td>2.708050</td>\n",
       "    </tr>\n",
       "    <tr>\n",
       "      <th>6</th>\n",
       "      <td>2018-01-01</td>\n",
       "      <td>Hawaii</td>\n",
       "      <td>Honolulu</td>\n",
       "      <td>Not in a city</td>\n",
       "      <td>Kapolei</td>\n",
       "      <td>Carbon monoxide</td>\n",
       "      <td>Parts per million</td>\n",
       "      <td>1.098612</td>\n",
       "    </tr>\n",
       "    <tr>\n",
       "      <th>8</th>\n",
       "      <td>2018-01-01</td>\n",
       "      <td>Hawaii</td>\n",
       "      <td>Honolulu</td>\n",
       "      <td>Honolulu</td>\n",
       "      <td>Honolulu</td>\n",
       "      <td>Carbon monoxide</td>\n",
       "      <td>Parts per million</td>\n",
       "      <td>1.791759</td>\n",
       "    </tr>\n",
       "    <tr>\n",
       "      <th>9</th>\n",
       "      <td>2018-01-01</td>\n",
       "      <td>Colorado</td>\n",
       "      <td>Larimer</td>\n",
       "      <td>Fort Collins</td>\n",
       "      <td>Fort Collins - CSU - S. Mason</td>\n",
       "      <td>Carbon monoxide</td>\n",
       "      <td>Parts per million</td>\n",
       "      <td>1.945910</td>\n",
       "    </tr>\n",
       "    <tr>\n",
       "      <th>10</th>\n",
       "      <td>2018-01-01</td>\n",
       "      <td>Minnesota</td>\n",
       "      <td>Dakota</td>\n",
       "      <td>Rosemount</td>\n",
       "      <td>Flint Hills Refinery 420</td>\n",
       "      <td>Carbon monoxide</td>\n",
       "      <td>Parts per million</td>\n",
       "      <td>1.386294</td>\n",
       "    </tr>\n",
       "  </tbody>\n",
       "</table>\n",
       "</div>"
      ],
      "text/plain": [
       "    date_local    state_name   county_name      city_name  \\\n",
       "0   2018-01-01       Arizona      Maricopa        Buckeye   \n",
       "1   2018-01-01          Ohio       Belmont      Shadyside   \n",
       "2   2018-01-01       Wyoming         Teton  Not in a city   \n",
       "3   2018-01-01  Pennsylvania  Philadelphia   Philadelphia   \n",
       "4   2018-01-01          Iowa          Polk     Des Moines   \n",
       "5   2018-01-01        Hawaii      Honolulu  Not in a city   \n",
       "6   2018-01-01        Hawaii      Honolulu  Not in a city   \n",
       "8   2018-01-01        Hawaii      Honolulu       Honolulu   \n",
       "9   2018-01-01      Colorado       Larimer   Fort Collins   \n",
       "10  2018-01-01     Minnesota        Dakota      Rosemount   \n",
       "\n",
       "                                      local_site_name   parameter_name  \\\n",
       "0                                             BUCKEYE  Carbon monoxide   \n",
       "1                                           Shadyside  Carbon monoxide   \n",
       "2   Yellowstone National Park - Old Faithful Snow ...  Carbon monoxide   \n",
       "3                              North East Waste (NEW)  Carbon monoxide   \n",
       "4                                           CARPENTER  Carbon monoxide   \n",
       "5                                             Kapolei  Carbon monoxide   \n",
       "6                                             Kapolei  Carbon monoxide   \n",
       "8                                            Honolulu  Carbon monoxide   \n",
       "9                       Fort Collins - CSU - S. Mason  Carbon monoxide   \n",
       "10                           Flint Hills Refinery 420  Carbon monoxide   \n",
       "\n",
       "     units_of_measure   aqi_log  \n",
       "0   Parts per million  2.079442  \n",
       "1   Parts per million  1.791759  \n",
       "2   Parts per million  1.098612  \n",
       "3   Parts per million  1.386294  \n",
       "4   Parts per million  1.386294  \n",
       "5   Parts per million  2.708050  \n",
       "6   Parts per million  1.098612  \n",
       "8   Parts per million  1.791759  \n",
       "9   Parts per million  1.945910  \n",
       "10  Parts per million  1.386294  "
      ]
     },
     "execution_count": 4,
     "metadata": {},
     "output_type": "execute_result"
    }
   ],
   "source": [
    "# Display first 10 rows of the data.\n",
    "modified_air_quality.head(10)"
   ]
  },
  {
   "cell_type": "markdown",
   "metadata": {
    "id": "nV2QIMFBqtOP"
   },
   "source": [
    "The `aqi_log` column represents AQI readings that were transformed logarithmically to suit the objectives of this lab. Taking a logarithm of the aqi to get a bell-shaped distribution is outside the scope of this course, but is helpful to see the normal distribution."
   ]
  },
  {
   "cell_type": "markdown",
   "metadata": {
    "id": "tBGSJbISFrS-"
   },
   "source": [
    "To better understand the quantity of data you are working with, display the number of rows and the number of columns."
   ]
  },
  {
   "cell_type": "code",
   "execution_count": 5,
   "metadata": {
    "id": "GuODVFHZF1mu"
   },
   "outputs": [
    {
     "name": "stdout",
     "output_type": "stream",
     "text": [
      "Shape of DataFrame: (257, 8)\n"
     ]
    }
   ],
   "source": [
    "# Display number of rows, number of columns.\n",
    "print(\"Shape of DataFrame:\", modified_air_quality.shape)\n",
    "\n"
   ]
  },
  {
   "cell_type": "markdown",
   "metadata": {
    "id": "1GOeL7M5_551"
   },
   "source": [
    "Now, you want to find out whether `aqi_log` fits a specific type of probability distribution. Create a histogram to visualize the distribution of `aqi_log`. Then, based on its shape, visually determine if it resembles a particular distribution."
   ]
  },
  {
   "cell_type": "code",
   "execution_count": 6,
   "metadata": {
    "id": "c_5_FpSOC4A9"
   },
   "outputs": [
    {
     "data": {
      "text/plain": [
       "<Axes: >"
      ]
     },
     "execution_count": 6,
     "metadata": {},
     "output_type": "execute_result"
    },
    {
     "data": {
      "image/png": "[encoded data removed]",
      "text/plain": [
       "<Figure size 640x480 with 1 Axes>"
      ]
     },
     "metadata": {},
     "output_type": "display_data"
    }
   ],
   "source": [
    "# Create a histogram to visualize distribution of aqi_log.\n",
    "modified_air_quality['aqi_log'].hist()"
   ]
  },
  {
   "cell_type": "markdown",
   "metadata": {
    "id": "sGlw_4gfuSbS"
   },
   "source": [
    "**Question:** What do you observe about the shape of the distribution from the histogram? "
   ]
  },
  {
   "cell_type": "markdown",
   "metadata": {
    "id": "7syfcROm10b0"
   },
   "source": [
    "A: The histogram shows that most of the values are concentrated on the lower end (left side) of the distribution, with a longer tail extending to the right.This suggests a right-skewed (positively skewed) distribution."
   ]
  },
  {
   "cell_type": "markdown",
   "metadata": {
    "id": "79fCHMhDHqf5"
   },
   "source": [
    "## **Step 3: Statistical tests**\n",
    "\n",
    "Use the empirical rule to observe the data, then test and verify that it is normally distributed.\n"
   ]
  },
  {
   "cell_type": "markdown",
   "metadata": {
    "id": "Yn0a1mcrld2y"
   },
   "source": [
    " As you have learned, the empirical rule states that, for every normal distribution: \n",
    "- 68% of the data fall within 1 standard deviation of the mean\n",
    "- 95% of the data fall within 2 standard deviations of the mean\n",
    "- 99.7% of the data fall within 3 standard deviations of the mean\n"
   ]
  },
  {
   "cell_type": "markdown",
   "metadata": {
    "id": "Q6rEDaEJnFgU"
   },
   "source": [
    "First, define two variables to store the mean and standard deviation, respectively, for `aqi_log`. Creating these variables will help you easily access these measures as you continue with the calculations involved in applying the empirical rule. "
   ]
  },
  {
   "cell_type": "code",
   "execution_count": 9,
   "metadata": {
    "id": "Bl8hZPnrmevm"
   },
   "outputs": [
    {
     "data": {
      "text/plain": [
       "np.float64(1.7689182585091165)"
      ]
     },
     "execution_count": 9,
     "metadata": {},
     "output_type": "execute_result"
    }
   ],
   "source": [
    "# Define variable for aqi_log mean.\n",
    "mean_aqi_log = modified_air_quality['aqi_log'].mean()\n",
    "mean_aqi_log\n",
    "\n",
    "# Print out the mean.\n"
   ]
  },
  {
   "cell_type": "code",
   "execution_count": 10,
   "metadata": {
    "id": "tIzj5aGAoU_L"
   },
   "outputs": [
    {
     "data": {
      "text/plain": [
       "np.float64(0.7164977499700741)"
      ]
     },
     "execution_count": 10,
     "metadata": {},
     "output_type": "execute_result"
    }
   ],
   "source": [
    "# Define variable for aqi_log standard deviation.\n",
    "std_aqi_log = modified_air_quality['aqi_log'].std()\n",
    "std_aqi_log\n",
    "\n",
    "# Print out the standard deviation.\n"
   ]
  },
  {
   "cell_type": "markdown",
   "metadata": {
    "id": "Bajx-iIspBLq"
   },
   "source": [
    "Now, check the first part of the empirical rule: whether 68% of the `aqi_log` data falls within 1 standard deviation of the mean.\n",
    "\n",
    "To compute the actual percentage of the data that satisfies this criteria, define the lower limit (for example, 1 standard deviation below the mean) and the upper limit (for example, 1 standard deviation above the mean). This will enable you to create a range and confirm whether each value falls within it."
   ]
  },
  {
   "cell_type": "code",
   "execution_count": 15,
   "metadata": {
    "id": "cyHe7ElJpwk7"
   },
   "outputs": [
    {
     "name": "stdout",
     "output_type": "stream",
     "text": [
      "Lower Limit: 1.0524205085390426\n",
      "Upper Limit: 2.4854160084791905\n"
     ]
    }
   ],
   "source": [
    "# Define variable for lower limit, 1 standard deviation below the mean.\n",
    "lower_limit = mean_aqi_log - 1 * std_aqi_log\n",
    "\n",
    "# Define variable for upper limit, 1 standard deviation above the mean.\n",
    "upper_limit = mean_aqi_log + 1 * std_aqi_log\n",
    "\n",
    "# Display lower_limit, upper_limit.\n",
    "print(\"Lower Limit:\", lower_limit)\n",
    "print(\"Upper Limit:\", upper_limit)\n"
   ]
  },
  {
   "cell_type": "code",
   "execution_count": 16,
   "metadata": {
    "id": "3nsfy9M2uYmJ"
   },
   "outputs": [
    {
     "name": "stdout",
     "output_type": "stream",
     "text": [
      "Percentage of AQI values within one standard deviation: 78.99%\n"
     ]
    }
   ],
   "source": [
    "# Display the actual percentage of data that falls within 1 standard deviation of the mean.\n",
    "# Count values within one standard deviation\n",
    "within_range = modified_air_quality[(modified_air_quality['aqi_log'] >= lower_limit) & (modified_air_quality['aqi_log'] <= upper_limit)]\n",
    "\n",
    "# Calculate percentage\n",
    "percentage_within_range = (len(within_range) / len(modified_air_quality)) * 100\n",
    "\n",
    "print(f\"Percentage of AQI values within one standard deviation: {percentage_within_range:.2f}%\")\n",
    "\n"
   ]
  },
  {
   "cell_type": "markdown",
   "metadata": {
    "id": "ifuD1yuRx399"
   },
   "source": [
    "Now, consider the second part of the empirical rule: whether 95% of the `aqi_log` data falls within 2 standard deviations of the mean.\n",
    "\n",
    "To compute the actual percentage of the data that satisfies this criteria, define the lower limit (for example, 2 standard deviations below the mean) and the upper limit (for example, 2 standard deviations above the mean). This will enable you to create a range and confirm whether each value falls within it."
   ]
  },
  {
   "cell_type": "code",
   "execution_count": 17,
   "metadata": {
    "id": "whe6r6J8x39_"
   },
   "outputs": [
    {
     "name": "stdout",
     "output_type": "stream",
     "text": [
      "Lower Limit: 0.33592275856896836\n",
      "Upper Limit: 3.2019137584492645\n"
     ]
    }
   ],
   "source": [
    "# Define variable for lower limit, 2 standard deviations below the mean.\n",
    "lower_limit_1= mean_aqi_log - 2 * std_aqi_log\n",
    "\n",
    "# Define variable for upper limit, 2 standard deviations below the mean.\n",
    "upper_limit_1 = mean_aqi_log + 2 * std_aqi_log\n",
    "\n",
    "\n",
    "# Display lower_limit, upper_limit.\n",
    "print(\"Lower Limit:\", lower_limit_1)\n",
    "print(\"Upper Limit:\", upper_limit_1)"
   ]
  },
  {
   "cell_type": "code",
   "execution_count": 18,
   "metadata": {
    "id": "7CbBgCm3x3-D"
   },
   "outputs": [
    {
     "name": "stdout",
     "output_type": "stream",
     "text": [
      "Percentage of AQI values within one standard deviation: 95.72%\n"
     ]
    }
   ],
   "source": [
    "within_range_1 = modified_air_quality[(modified_air_quality['aqi_log'] >= lower_limit_1) & (modified_air_quality['aqi_log'] <= upper_limit_1)]\n",
    "\n",
    "# Calculate percentage\n",
    "percentage_within_range_1 = (len(within_range_1) / len(modified_air_quality)) * 100\n",
    "\n",
    "print(f\"Percentage of AQI values within one standard deviation: {percentage_within_range_1:.2f}%\")\n"
   ]
  },
  {
   "cell_type": "markdown",
   "metadata": {
    "id": "iDwqzZv7yRU2"
   },
   "source": [
    "Now, consider the third part of the empirical rule:whether 99.7% of the `aqi_log` data falls within 3 standard deviations of the mean.\n",
    "\n",
    "To compute the actual percentage of the data that satisfies this criteria, define the lower limit (for example, 3 standard deviations below the mean) and the upper limit (for example, 3 standard deviations above the mean). This will enable you to create a range and confirm whether each value falls within it."
   ]
  },
  {
   "cell_type": "code",
   "execution_count": 20,
   "metadata": {
    "id": "LIgS7jmXyRU4"
   },
   "outputs": [
    {
     "name": "stdout",
     "output_type": "stream",
     "text": [
      "Lower Limit: -0.38057499140110584\n",
      "Upper Limit: 3.918411508419339\n"
     ]
    }
   ],
   "source": [
    "# Define variable for lower limit, 3 standard deviations below the mean.\n",
    "lower_limit_2= mean_aqi_log - 3 * std_aqi_log\n",
    "\n",
    "# Define variable for upper limit, 3 standard deviations above the mean.\n",
    "upper_limit_2 = mean_aqi_log + 3 * std_aqi_log\n",
    "\n",
    "# Display lower_limit, upper_limit.\n",
    "print(\"Lower Limit:\", lower_limit_2)\n",
    "print(\"Upper Limit:\", upper_limit_2)"
   ]
  },
  {
   "cell_type": "code",
   "execution_count": 21,
   "metadata": {
    "id": "2YNWONRKyRU9"
   },
   "outputs": [
    {
     "name": "stdout",
     "output_type": "stream",
     "text": [
      "Percentage of AQI values within one standard deviation: 99.61%\n"
     ]
    }
   ],
   "source": [
    "# Display the actual percentage of data that falls within 3 standard deviations of the mean.\n",
    "within_range_2 = modified_air_quality[(modified_air_quality['aqi_log'] >= lower_limit_2) & (modified_air_quality['aqi_log'] <= upper_limit_2)]\n",
    "\n",
    "# Calculate percentage\n",
    "percentage_within_range_2 = (len(within_range_2) / len(modified_air_quality)) * 100\n",
    "\n",
    "print(f\"Percentage of AQI values within one standard deviation: {percentage_within_range_2:.2f}%\")\n"
   ]
  },
  {
   "cell_type": "markdown",
   "metadata": {
    "id": "WMs52bG7Htuc"
   },
   "source": [
    "## **Step 4: Results and evaluation** "
   ]
  },
  {
   "cell_type": "markdown",
   "metadata": {},
   "source": []
  },
  {
   "cell_type": "markdown",
   "metadata": {
    "id": "33nFzX120u2z"
   },
   "source": [
    "**Question:** What results did you attain by applying the empirical rule? "
   ]
  },
  {
   "cell_type": "markdown",
   "metadata": {
    "id": "MDp6w9Yu11lm"
   },
   "source": [
    "A:Our values agree quite well with the empirical rule.\n",
    "\n",
    "Our values of 78.99%, 95.72%, and 99.61% are very close to the values the empirical rule suggests: roughly 68%, 95%, and 99.7%.\n"
   ]
  },
  {
   "cell_type": "markdown",
   "metadata": {
    "id": "yGVspw1N6Zom"
   },
   "source": [
    "**Question:** How would you use z-score to find outliers? "
   ]
  },
  {
   "cell_type": "markdown",
   "metadata": {
    "id": "1tFlqjv112BU"
   },
   "source": [
    "A:"
   ]
  },
  {
   "cell_type": "markdown",
   "metadata": {
    "id": "OiBYE9FW8bSf"
   },
   "source": [
    "Compute the z-score for every `aqi_log` value. Then, add a column named `z_score` in the data to store those results. "
   ]
  },
  {
   "cell_type": "code",
   "execution_count": 22,
   "metadata": {
    "id": "EGh6jJ-a9bph"
   },
   "outputs": [
    {
     "data": {
      "text/html": [
       "<div>\n",
       "<style scoped>\n",
       "    .dataframe tbody tr th:only-of-type {\n",
       "        vertical-align: middle;\n",
       "    }\n",
       "\n",
       "    .dataframe tbody tr th {\n",
       "        vertical-align: top;\n",
       "    }\n",
       "\n",
       "    .dataframe thead th {\n",
       "        text-align: right;\n",
       "    }\n",
       "</style>\n",
       "<table border=\"1\" class=\"dataframe\">\n",
       "  <thead>\n",
       "    <tr style=\"text-align: right;\">\n",
       "      <th></th>\n",
       "      <th>date_local</th>\n",
       "      <th>state_name</th>\n",
       "      <th>county_name</th>\n",
       "      <th>city_name</th>\n",
       "      <th>local_site_name</th>\n",
       "      <th>parameter_name</th>\n",
       "      <th>units_of_measure</th>\n",
       "      <th>aqi_log</th>\n",
       "      <th>Z_SCORE</th>\n",
       "    </tr>\n",
       "  </thead>\n",
       "  <tbody>\n",
       "    <tr>\n",
       "      <th>0</th>\n",
       "      <td>2018-01-01</td>\n",
       "      <td>Arizona</td>\n",
       "      <td>Maricopa</td>\n",
       "      <td>Buckeye</td>\n",
       "      <td>BUCKEYE</td>\n",
       "      <td>Carbon monoxide</td>\n",
       "      <td>Parts per million</td>\n",
       "      <td>2.079442</td>\n",
       "      <td>0.434236</td>\n",
       "    </tr>\n",
       "    <tr>\n",
       "      <th>1</th>\n",
       "      <td>2018-01-01</td>\n",
       "      <td>Ohio</td>\n",
       "      <td>Belmont</td>\n",
       "      <td>Shadyside</td>\n",
       "      <td>Shadyside</td>\n",
       "      <td>Carbon monoxide</td>\n",
       "      <td>Parts per million</td>\n",
       "      <td>1.791759</td>\n",
       "      <td>0.031941</td>\n",
       "    </tr>\n",
       "    <tr>\n",
       "      <th>2</th>\n",
       "      <td>2018-01-01</td>\n",
       "      <td>Wyoming</td>\n",
       "      <td>Teton</td>\n",
       "      <td>Not in a city</td>\n",
       "      <td>Yellowstone National Park - Old Faithful Snow ...</td>\n",
       "      <td>Carbon monoxide</td>\n",
       "      <td>Parts per million</td>\n",
       "      <td>1.098612</td>\n",
       "      <td>-0.937357</td>\n",
       "    </tr>\n",
       "    <tr>\n",
       "      <th>3</th>\n",
       "      <td>2018-01-01</td>\n",
       "      <td>Pennsylvania</td>\n",
       "      <td>Philadelphia</td>\n",
       "      <td>Philadelphia</td>\n",
       "      <td>North East Waste (NEW)</td>\n",
       "      <td>Carbon monoxide</td>\n",
       "      <td>Parts per million</td>\n",
       "      <td>1.386294</td>\n",
       "      <td>-0.535062</td>\n",
       "    </tr>\n",
       "    <tr>\n",
       "      <th>4</th>\n",
       "      <td>2018-01-01</td>\n",
       "      <td>Iowa</td>\n",
       "      <td>Polk</td>\n",
       "      <td>Des Moines</td>\n",
       "      <td>CARPENTER</td>\n",
       "      <td>Carbon monoxide</td>\n",
       "      <td>Parts per million</td>\n",
       "      <td>1.386294</td>\n",
       "      <td>-0.535062</td>\n",
       "    </tr>\n",
       "    <tr>\n",
       "      <th>...</th>\n",
       "      <td>...</td>\n",
       "      <td>...</td>\n",
       "      <td>...</td>\n",
       "      <td>...</td>\n",
       "      <td>...</td>\n",
       "      <td>...</td>\n",
       "      <td>...</td>\n",
       "      <td>...</td>\n",
       "      <td>...</td>\n",
       "    </tr>\n",
       "    <tr>\n",
       "      <th>254</th>\n",
       "      <td>2018-01-01</td>\n",
       "      <td>Arizona</td>\n",
       "      <td>Pima</td>\n",
       "      <td>Tucson</td>\n",
       "      <td>CHERRY &amp; GLENN</td>\n",
       "      <td>Carbon monoxide</td>\n",
       "      <td>Parts per million</td>\n",
       "      <td>2.708050</td>\n",
       "      <td>1.313283</td>\n",
       "    </tr>\n",
       "    <tr>\n",
       "      <th>255</th>\n",
       "      <td>2018-01-01</td>\n",
       "      <td>District Of Columbia</td>\n",
       "      <td>District of Columbia</td>\n",
       "      <td>Washington</td>\n",
       "      <td>Near Road</td>\n",
       "      <td>Carbon monoxide</td>\n",
       "      <td>Parts per million</td>\n",
       "      <td>1.386294</td>\n",
       "      <td>-0.535062</td>\n",
       "    </tr>\n",
       "    <tr>\n",
       "      <th>256</th>\n",
       "      <td>2018-01-01</td>\n",
       "      <td>Wisconsin</td>\n",
       "      <td>Dodge</td>\n",
       "      <td>Kekoskee</td>\n",
       "      <td>HORICON WILDLIFE AREA</td>\n",
       "      <td>Carbon monoxide</td>\n",
       "      <td>Parts per million</td>\n",
       "      <td>1.098612</td>\n",
       "      <td>-0.937357</td>\n",
       "    </tr>\n",
       "    <tr>\n",
       "      <th>257</th>\n",
       "      <td>2018-01-01</td>\n",
       "      <td>Kentucky</td>\n",
       "      <td>Jefferson</td>\n",
       "      <td>Louisville</td>\n",
       "      <td>CANNONS LANE</td>\n",
       "      <td>Carbon monoxide</td>\n",
       "      <td>Parts per million</td>\n",
       "      <td>1.098612</td>\n",
       "      <td>-0.937357</td>\n",
       "    </tr>\n",
       "    <tr>\n",
       "      <th>259</th>\n",
       "      <td>2018-01-01</td>\n",
       "      <td>North Carolina</td>\n",
       "      <td>Wake</td>\n",
       "      <td>Not in a city</td>\n",
       "      <td>Triple Oak</td>\n",
       "      <td>Carbon monoxide</td>\n",
       "      <td>Parts per million</td>\n",
       "      <td>1.098612</td>\n",
       "      <td>-0.937357</td>\n",
       "    </tr>\n",
       "  </tbody>\n",
       "</table>\n",
       "<p>257 rows × 9 columns</p>\n",
       "</div>"
      ],
      "text/plain": [
       "     date_local            state_name           county_name      city_name  \\\n",
       "0    2018-01-01               Arizona              Maricopa        Buckeye   \n",
       "1    2018-01-01                  Ohio               Belmont      Shadyside   \n",
       "2    2018-01-01               Wyoming                 Teton  Not in a city   \n",
       "3    2018-01-01          Pennsylvania          Philadelphia   Philadelphia   \n",
       "4    2018-01-01                  Iowa                  Polk     Des Moines   \n",
       "..          ...                   ...                   ...            ...   \n",
       "254  2018-01-01               Arizona                  Pima         Tucson   \n",
       "255  2018-01-01  District Of Columbia  District of Columbia     Washington   \n",
       "256  2018-01-01             Wisconsin                 Dodge       Kekoskee   \n",
       "257  2018-01-01              Kentucky             Jefferson     Louisville   \n",
       "259  2018-01-01        North Carolina                  Wake  Not in a city   \n",
       "\n",
       "                                       local_site_name   parameter_name  \\\n",
       "0                                              BUCKEYE  Carbon monoxide   \n",
       "1                                            Shadyside  Carbon monoxide   \n",
       "2    Yellowstone National Park - Old Faithful Snow ...  Carbon monoxide   \n",
       "3                               North East Waste (NEW)  Carbon monoxide   \n",
       "4                                            CARPENTER  Carbon monoxide   \n",
       "..                                                 ...              ...   \n",
       "254                                     CHERRY & GLENN  Carbon monoxide   \n",
       "255                                          Near Road  Carbon monoxide   \n",
       "256                              HORICON WILDLIFE AREA  Carbon monoxide   \n",
       "257                                       CANNONS LANE  Carbon monoxide   \n",
       "259                                         Triple Oak  Carbon monoxide   \n",
       "\n",
       "      units_of_measure   aqi_log   Z_SCORE  \n",
       "0    Parts per million  2.079442  0.434236  \n",
       "1    Parts per million  1.791759  0.031941  \n",
       "2    Parts per million  1.098612 -0.937357  \n",
       "3    Parts per million  1.386294 -0.535062  \n",
       "4    Parts per million  1.386294 -0.535062  \n",
       "..                 ...       ...       ...  \n",
       "254  Parts per million  2.708050  1.313283  \n",
       "255  Parts per million  1.386294 -0.535062  \n",
       "256  Parts per million  1.098612 -0.937357  \n",
       "257  Parts per million  1.098612 -0.937357  \n",
       "259  Parts per million  1.098612 -0.937357  \n",
       "\n",
       "[257 rows x 9 columns]"
      ]
     },
     "execution_count": 22,
     "metadata": {},
     "output_type": "execute_result"
    }
   ],
   "source": [
    "# Compute the z-score for every aqi_log value, and add a column named z_score in the data to store those results.\n",
    "modified_air_quality['Z_SCORE'] = stats.zscore(modified_air_quality['aqi_log'])\n",
    "modified_air_quality\n",
    " # ddof=degrees of freedom correction (sample vs. population)\n",
    "\n",
    "# Display the first 5 rows to ensure that the new column was added.\n",
    "\n"
   ]
  },
  {
   "cell_type": "markdown",
   "metadata": {
    "id": "0A4dXHJz-r4q"
   },
   "source": [
    "Identify the parts of the data where `aqi_log` is above or below 3 standard deviations of the mean."
   ]
  },
  {
   "cell_type": "code",
   "execution_count": 23,
   "metadata": {
    "id": "uZKI5h2q-5TI"
   },
   "outputs": [
    {
     "data": {
      "text/html": [
       "<div>\n",
       "<style scoped>\n",
       "    .dataframe tbody tr th:only-of-type {\n",
       "        vertical-align: middle;\n",
       "    }\n",
       "\n",
       "    .dataframe tbody tr th {\n",
       "        vertical-align: top;\n",
       "    }\n",
       "\n",
       "    .dataframe thead th {\n",
       "        text-align: right;\n",
       "    }\n",
       "</style>\n",
       "<table border=\"1\" class=\"dataframe\">\n",
       "  <thead>\n",
       "    <tr style=\"text-align: right;\">\n",
       "      <th></th>\n",
       "      <th>date_local</th>\n",
       "      <th>state_name</th>\n",
       "      <th>county_name</th>\n",
       "      <th>city_name</th>\n",
       "      <th>local_site_name</th>\n",
       "      <th>parameter_name</th>\n",
       "      <th>units_of_measure</th>\n",
       "      <th>aqi_log</th>\n",
       "      <th>Z_SCORE</th>\n",
       "    </tr>\n",
       "  </thead>\n",
       "  <tbody>\n",
       "    <tr>\n",
       "      <th>244</th>\n",
       "      <td>2018-01-01</td>\n",
       "      <td>Arizona</td>\n",
       "      <td>Maricopa</td>\n",
       "      <td>Phoenix</td>\n",
       "      <td>WEST PHOENIX</td>\n",
       "      <td>Carbon monoxide</td>\n",
       "      <td>Parts per million</td>\n",
       "      <td>3.931826</td>\n",
       "      <td>3.024612</td>\n",
       "    </tr>\n",
       "  </tbody>\n",
       "</table>\n",
       "</div>"
      ],
      "text/plain": [
       "     date_local state_name county_name city_name local_site_name  \\\n",
       "244  2018-01-01    Arizona    Maricopa   Phoenix    WEST PHOENIX   \n",
       "\n",
       "      parameter_name   units_of_measure   aqi_log   Z_SCORE  \n",
       "244  Carbon monoxide  Parts per million  3.931826  3.024612  "
      ]
     },
     "execution_count": 23,
     "metadata": {},
     "output_type": "execute_result"
    }
   ],
   "source": [
    "# Display data where `aqi_log` is above or below 3 standard deviations of the mean\n",
    "modified_air_quality[(modified_air_quality['Z_SCORE'] > 3) | (modified_air_quality['Z_SCORE'] < -3)]"
   ]
  },
  {
   "cell_type": "markdown",
   "metadata": {
    "id": "KKE1k3i4_gHK"
   },
   "source": [
    "**Question:** What do you observe about potential outliers based on the calculations?\n"
   ]
  },
  {
   "cell_type": "markdown",
   "metadata": {
    "id": "VUJidfrT12kv"
   },
   "source": [
    "A:Using z-scores, we can identify two outlying districts that have unusually aqi_log: `Arizona` . The aqi_log in this district is more than 3 SDs *above* the  overall mean aqi_log. "
   ]
  },
  {
   "cell_type": "markdown",
   "metadata": {
    "id": "WkzrnFdy7nQL"
   },
   "source": [
    "**Question:** Why is outlier detection an important part of this project? "
   ]
  },
  {
   "cell_type": "markdown",
   "metadata": {
    "id": "zGDvFeUc13Aj"
   },
   "source": [
    "A: Detecting outliers in aqi_log can reveal extreme pollution events, sensor malfunctions, or data entry errors. Understanding these anomalies allows for better decision-making in environmental policies, public health responses, and data integrity checks"
   ]
  },
  {
   "cell_type": "markdown",
   "metadata": {
    "id": "W1bNKZYNHjDr"
   },
   "source": [
    "## **Considerations**"
   ]
  },
  {
   "cell_type": "markdown",
   "metadata": {
    "id": "kecJlWA815Ld"
   },
   "source": [
    "**What are some key takeaways that you learned during this lab?**"
   ]
  },
  {
   "cell_type": "code",
   "execution_count": null,
   "metadata": {
    "vscode": {
     "languageId": "markdown"
    }
   },
   "outputs": [],
   "source": [
    "I learned how to calculate the percentage of data that falls within a certain number of standard deviations from the mean. I also learned how to calculate the z-score for each value in a dataset and identify any outliers based on the z-score."
   ]
  },
  {
   "cell_type": "markdown",
   "metadata": {
    "id": "XQ5JZ-MP17YU"
   },
   "source": [
    "**What summary would you provide to audiences? Consider the distribution of the data and which sites would benefit from additional research.**"
   ]
  },
  {
   "cell_type": "code",
   "execution_count": null,
   "metadata": {
    "vscode": {
     "languageId": "tex"
    }
   },
   "outputs": [],
   "source": [
    "\n",
    "A: Based on the analysis of the `aqi_log` data, we observed that the distribution is right-skewed, indicating that most AQI values are on the lower end with a few higher values. The empirical rule was applied, and the percentages of data within 1, 2, and 3 standard deviations from the mean were found to be 78.99%, 95.72%, and 99.61%, respectively, which align closely with the theoretical values of 68%, 95%, and 99.7%.\n",
    "\n",
    "Outlier detection using z-scores identified a few regions with unusually high AQI values, specifically in Arizona. These outliers suggest that these regions may be experiencing extreme pollution events or other anomalies that warrant further investigation.\n",
    "\n",
    "In summary, while most regions have AQI values within the expected range, certain areas, particularly in Arizona, show significantly higher pollution levels. These sites would benefit from additional research to understand the underlying causes and to develop targeted interventions for air quality improvement."
   ]
  },
  {
   "cell_type": "markdown",
   "metadata": {
    "id": "K2AW3yb9QtIF"
   },
   "source": [
    "**Reference**\n",
    "\n",
    "US EPA, OAR. 2014, July 8. [Air Data: Air Quality Data Collected at Outdoor Monitors Across the US](https://www.epa.gov/outdoor-air-quality-data). "
   ]
  },
  {
   "cell_type": "markdown",
   "metadata": {},
   "source": []
  }
 ],
 "metadata": {
  "colab": {
   "collapsed_sections": [],
   "provenance": []
  },
  "kernelspec": {
   "display_name": "Python 3",
   "language": "python",
   "name": "python3"
  },
  "language_info": {
   "codemirror_mode": {
    "name": "ipython",
    "version": 3
   },
   "file_extension": ".py",
   "mimetype": "text/x-python",
   "name": "python",
   "nbconvert_exporter": "python",
   "pygments_lexer": "ipython3",
   "version": "3.13.1"
  }
 },
 "nbformat": 4,
 "nbformat_minor": 1
}
