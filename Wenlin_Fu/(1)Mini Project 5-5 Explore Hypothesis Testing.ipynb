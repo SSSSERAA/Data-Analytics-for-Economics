{
 "cells": [
  {
   "cell_type": "markdown",
   "id": "f956b8b1",
   "metadata": {
    "id": "d25eed62-5910-4d10-a976-c18c4f7d99f7"
   },
   "source": [
    "# Mini Project 5-5 Explore Hypothesis Testing"
   ]
  },
  {
   "cell_type": "markdown",
   "id": "719f779d",
   "metadata": {
    "id": "b50579ec-09df-4bb1-ad5a-d28f4790ca16"
   },
   "source": [
    "## Introduction"
   ]
  },
  {
   "cell_type": "markdown",
   "id": "5e661199",
   "metadata": {
    "id": "6a8992ac-22d5-41db-aa09-263b464950e0"
   },
   "source": [
    "You work for an environmental think tank called Repair Our Air (ROA). ROA is formulating policy recommendations to improve the air quality in America, using the Environmental Protection Agency's Air Quality Index (AQI) to guide their decision making. An AQI value close to 0 signals \"little to no\" public health concern, while higher values are associated with increased risk to public health. \n",
    "\n",
    "They've tasked you with leveraging AQI data to help them prioritize their strategy for improving air quality in America."
   ]
  },
  {
   "cell_type": "markdown",
   "id": "b1c77bb7",
   "metadata": {
    "id": "6e4e3b8a-b5f9-4fe1-a824-0bd3aece693c"
   },
   "source": [
    "ROA is considering the following decisions. For each, construct a hypothesis test and an accompanying visualization, using your results of that test to make a recommendation:\n",
    "\n",
    "1. ROA is considering a metropolitan-focused approach. Within California, they want to know if the mean AQI in Los Angeles County is statistically different from the rest of California.\n",
    "2. With limited resources, ROA has to choose between New York and Ohio for their next regional office. Does New York have a lower AQI than Ohio?\n",
    "3. A new policy will affect those states with a mean AQI of 10 or greater. Will Michigan be affected by this new policy?\n",
    "\n",
    "**Notes:**\n",
    "1. For your analysis, you'll default to a 5% level of significance.\n",
    "2. Throughout the lab, for two-sample t-tests, use Welch's t-test (i.e., setting the `equal_var` parameter to `False` in `scipy.stats.ttest_ind()`). This will account for the possibly unequal variances between the two groups in the comparison."
   ]
  },
  {
   "cell_type": "markdown",
   "id": "bbb8db01",
   "metadata": {
    "id": "3b4dc9a5-d724-4696-a704-57fefa9d5938"
   },
   "source": [
    "## Step 1: Imports\n",
    "\n",
    "To proceed with your analysis, import `pandas` and `numpy`. To conduct your hypothesis testing, import `stats` from `scipy`."
   ]
  },
  {
   "cell_type": "markdown",
   "id": "d125a4a3",
   "metadata": {
    "id": "3d28827d-9bb3-45c7-a969-c00f6feda0e2"
   },
   "source": [
    "#### Import Packages"
   ]
  },
  {
   "cell_type": "code",
   "execution_count": 2,
   "id": "d2ef202e",
   "metadata": {
    "id": "0b3d0e1c-23b9-4491-82a5-ac1e4bd36f30"
   },
   "outputs": [],
   "source": [
    "# Import relevant packages\n",
    "import numpy as np\n",
    "import matplotlib.pyplot as plt\n",
    "import pandas as pd\n",
    "import scipy as sp"
   ]
  },
  {
   "cell_type": "markdown",
   "id": "93be3281",
   "metadata": {
    "id": "a4f7c0d0-027e-475a-bce5-ad96d059cd04"
   },
   "source": [
    "You are also provided with a dataset with national Air Quality Index (AQI) measurements by state over time for this analysis. `Pandas` was used to import the file `c4_epa_air_quality.csv` as a dataframe named `aqi`. As shown in this cell, the dataset has been automatically loaded in for you. You do not need to download the .csv file, or provide more code, in order to access the dataset and proceed with this lab. Please continue with this activity by completing the following instructions.\n",
    "\n",
    "**Note:** For purposes of your analysis, you can assume this data is randomly sampled from a larger population."
   ]
  },
  {
   "cell_type": "markdown",
   "id": "5ef0e881",
   "metadata": {
    "id": "4b765030-5f02-47d2-aa77-8ac5b2117cc1"
   },
   "source": [
    "#### Load Dataset"
   ]
  },
  {
   "cell_type": "code",
   "execution_count": 3,
   "id": "95a56b4e",
   "metadata": {
    "id": "1ce82ed7-cf32-4028-ac77-a377e7638458",
    "tags": []
   },
   "outputs": [],
   "source": [
    "# IMPORT YOUR DATA\n",
    "aqi = pd.read_csv('modified_c4_epa_air_quality.csv')\n",
    "aqi = aqi.dropna()"
   ]
  },
  {
   "cell_type": "markdown",
   "id": "8ebc6797",
   "metadata": {
    "id": "ZDz9XgvMy0MD"
   },
   "source": [
    "## Step 2: Data Exploration"
   ]
  },
  {
   "cell_type": "markdown",
   "id": "f6c51f03",
   "metadata": {
    "id": "c1ee0813-5e74-4564-8ea1-8d724700754a"
   },
   "source": [
    "### Before proceeding to your deliverables, explore your datasets.\n",
    "\n",
    "Use the following space to surface descriptive statistics about your data. In particular, explore whether you believe the research questions you were given are readily answerable with this data."
   ]
  },
  {
   "cell_type": "code",
   "execution_count": 4,
   "id": "c6f4db84",
   "metadata": {},
   "outputs": [
    {
     "data": {
      "text/html": [
       "<div>\n",
       "<style scoped>\n",
       "    .dataframe tbody tr th:only-of-type {\n",
       "        vertical-align: middle;\n",
       "    }\n",
       "\n",
       "    .dataframe tbody tr th {\n",
       "        vertical-align: top;\n",
       "    }\n",
       "\n",
       "    .dataframe thead th {\n",
       "        text-align: right;\n",
       "    }\n",
       "</style>\n",
       "<table border=\"1\" class=\"dataframe\">\n",
       "  <thead>\n",
       "    <tr style=\"text-align: right;\">\n",
       "      <th></th>\n",
       "      <th>date_local</th>\n",
       "      <th>state_name</th>\n",
       "      <th>county_name</th>\n",
       "      <th>city_name</th>\n",
       "      <th>local_site_name</th>\n",
       "      <th>parameter_name</th>\n",
       "      <th>units_of_measure</th>\n",
       "      <th>aqi_log</th>\n",
       "    </tr>\n",
       "  </thead>\n",
       "  <tbody>\n",
       "    <tr>\n",
       "      <th>0</th>\n",
       "      <td>2018-01-01</td>\n",
       "      <td>Arizona</td>\n",
       "      <td>Maricopa</td>\n",
       "      <td>Buckeye</td>\n",
       "      <td>BUCKEYE</td>\n",
       "      <td>Carbon monoxide</td>\n",
       "      <td>Parts per million</td>\n",
       "      <td>2.079442</td>\n",
       "    </tr>\n",
       "    <tr>\n",
       "      <th>1</th>\n",
       "      <td>2018-01-01</td>\n",
       "      <td>Ohio</td>\n",
       "      <td>Belmont</td>\n",
       "      <td>Shadyside</td>\n",
       "      <td>Shadyside</td>\n",
       "      <td>Carbon monoxide</td>\n",
       "      <td>Parts per million</td>\n",
       "      <td>1.791759</td>\n",
       "    </tr>\n",
       "    <tr>\n",
       "      <th>2</th>\n",
       "      <td>2018-01-01</td>\n",
       "      <td>Wyoming</td>\n",
       "      <td>Teton</td>\n",
       "      <td>Not in a city</td>\n",
       "      <td>Yellowstone National Park - Old Faithful Snow ...</td>\n",
       "      <td>Carbon monoxide</td>\n",
       "      <td>Parts per million</td>\n",
       "      <td>1.098612</td>\n",
       "    </tr>\n",
       "    <tr>\n",
       "      <th>3</th>\n",
       "      <td>2018-01-01</td>\n",
       "      <td>Pennsylvania</td>\n",
       "      <td>Philadelphia</td>\n",
       "      <td>Philadelphia</td>\n",
       "      <td>North East Waste (NEW)</td>\n",
       "      <td>Carbon monoxide</td>\n",
       "      <td>Parts per million</td>\n",
       "      <td>1.386294</td>\n",
       "    </tr>\n",
       "    <tr>\n",
       "      <th>4</th>\n",
       "      <td>2018-01-01</td>\n",
       "      <td>Iowa</td>\n",
       "      <td>Polk</td>\n",
       "      <td>Des Moines</td>\n",
       "      <td>CARPENTER</td>\n",
       "      <td>Carbon monoxide</td>\n",
       "      <td>Parts per million</td>\n",
       "      <td>1.386294</td>\n",
       "    </tr>\n",
       "  </tbody>\n",
       "</table>\n",
       "</div>"
      ],
      "text/plain": [
       "   date_local    state_name   county_name      city_name  \\\n",
       "0  2018-01-01       Arizona      Maricopa        Buckeye   \n",
       "1  2018-01-01          Ohio       Belmont      Shadyside   \n",
       "2  2018-01-01       Wyoming         Teton  Not in a city   \n",
       "3  2018-01-01  Pennsylvania  Philadelphia   Philadelphia   \n",
       "4  2018-01-01          Iowa          Polk     Des Moines   \n",
       "\n",
       "                                     local_site_name   parameter_name  \\\n",
       "0                                            BUCKEYE  Carbon monoxide   \n",
       "1                                          Shadyside  Carbon monoxide   \n",
       "2  Yellowstone National Park - Old Faithful Snow ...  Carbon monoxide   \n",
       "3                             North East Waste (NEW)  Carbon monoxide   \n",
       "4                                          CARPENTER  Carbon monoxide   \n",
       "\n",
       "    units_of_measure   aqi_log  \n",
       "0  Parts per million  2.079442  \n",
       "1  Parts per million  1.791759  \n",
       "2  Parts per million  1.098612  \n",
       "3  Parts per million  1.386294  \n",
       "4  Parts per million  1.386294  "
      ]
     },
     "execution_count": 4,
     "metadata": {},
     "output_type": "execute_result"
    }
   ],
   "source": [
    "# Use head() to show a sample of data\n",
    "aqi.head()"
   ]
  },
  {
   "cell_type": "code",
   "execution_count": 5,
   "id": "3821d1a7",
   "metadata": {},
   "outputs": [
    {
     "data": {
      "text/plain": [
       "Index(['date_local', 'state_name', 'county_name', 'city_name',\n",
       "       'local_site_name', 'parameter_name', 'units_of_measure', 'aqi_log'],\n",
       "      dtype='object')"
      ]
     },
     "execution_count": 5,
     "metadata": {},
     "output_type": "execute_result"
    }
   ],
   "source": [
    "# check varibles\n",
    "aqi.columns"
   ]
  },
  {
   "cell_type": "code",
   "execution_count": 6,
   "id": "cf3e3c78",
   "metadata": {},
   "outputs": [
    {
     "data": {
      "text/html": [
       "<div>\n",
       "<style scoped>\n",
       "    .dataframe tbody tr th:only-of-type {\n",
       "        vertical-align: middle;\n",
       "    }\n",
       "\n",
       "    .dataframe tbody tr th {\n",
       "        vertical-align: top;\n",
       "    }\n",
       "\n",
       "    .dataframe thead th {\n",
       "        text-align: right;\n",
       "    }\n",
       "</style>\n",
       "<table border=\"1\" class=\"dataframe\">\n",
       "  <thead>\n",
       "    <tr style=\"text-align: right;\">\n",
       "      <th></th>\n",
       "      <th>aqi_log</th>\n",
       "    </tr>\n",
       "  </thead>\n",
       "  <tbody>\n",
       "    <tr>\n",
       "      <th>count</th>\n",
       "      <td>257.000000</td>\n",
       "    </tr>\n",
       "    <tr>\n",
       "      <th>mean</th>\n",
       "      <td>1.768918</td>\n",
       "    </tr>\n",
       "    <tr>\n",
       "      <th>std</th>\n",
       "      <td>0.716498</td>\n",
       "    </tr>\n",
       "    <tr>\n",
       "      <th>min</th>\n",
       "      <td>0.000000</td>\n",
       "    </tr>\n",
       "    <tr>\n",
       "      <th>25%</th>\n",
       "      <td>1.098612</td>\n",
       "    </tr>\n",
       "    <tr>\n",
       "      <th>50%</th>\n",
       "      <td>1.791759</td>\n",
       "    </tr>\n",
       "    <tr>\n",
       "      <th>75%</th>\n",
       "      <td>2.302585</td>\n",
       "    </tr>\n",
       "    <tr>\n",
       "      <th>max</th>\n",
       "      <td>3.931826</td>\n",
       "    </tr>\n",
       "  </tbody>\n",
       "</table>\n",
       "</div>"
      ],
      "text/plain": [
       "          aqi_log\n",
       "count  257.000000\n",
       "mean     1.768918\n",
       "std      0.716498\n",
       "min      0.000000\n",
       "25%      1.098612\n",
       "50%      1.791759\n",
       "75%      2.302585\n",
       "max      3.931826"
      ]
     },
     "execution_count": 6,
     "metadata": {},
     "output_type": "execute_result"
    }
   ],
   "source": [
    "# Use describe() to summarize AQI\n",
    "aqi.describe()"
   ]
  },
  {
   "cell_type": "code",
   "execution_count": 7,
   "id": "460a0c78",
   "metadata": {
    "id": "0444122d-6fba-4051-8b09-b15392aacebf",
    "tags": []
   },
   "outputs": [
    {
     "data": {
      "text/plain": [
       "state_name\n",
       "California              66\n",
       "Arizona                 14\n",
       "Ohio                    12\n",
       "Florida                 12\n",
       "Texas                   10\n",
       "New York                10\n",
       "Pennsylvania             9\n",
       "Colorado                 9\n",
       "Michigan                 9\n",
       "Minnesota                7\n",
       "New Jersey               6\n",
       "Indiana                  5\n",
       "Massachusetts            4\n",
       "Oklahoma                 4\n",
       "North Carolina           4\n",
       "Nevada                   4\n",
       "Maryland                 4\n",
       "Connecticut              4\n",
       "Virginia                 4\n",
       "Utah                     3\n",
       "Vermont                  3\n",
       "Illinois                 3\n",
       "Missouri                 3\n",
       "Hawaii                   3\n",
       "Iowa                     3\n",
       "Wyoming                  3\n",
       "Kentucky                 3\n",
       "Alaska                   2\n",
       "Rhode Island             2\n",
       "Georgia                  2\n",
       "Tennessee                2\n",
       "Washington               2\n",
       "Montana                  2\n",
       "Maine                    2\n",
       "Idaho                    2\n",
       "New Mexico               2\n",
       "District Of Columbia     2\n",
       "Oregon                   2\n",
       "New Hampshire            2\n",
       "Kansas                   1\n",
       "Alabama                  1\n",
       "South Dakota             1\n",
       "Nebraska                 1\n",
       "Mississippi              1\n",
       "Louisiana                1\n",
       "Delaware                 1\n",
       "North Dakota             1\n",
       "Arkansas                 1\n",
       "Puerto Rico              1\n",
       "South Carolina           1\n",
       "Wisconsin                1\n",
       "Name: count, dtype: int64"
      ]
     },
     "execution_count": 7,
     "metadata": {},
     "output_type": "execute_result"
    }
   ],
   "source": [
    "# For a more thorough examination of observations by state use values_counts()\n",
    "aqi['state_name'].value_counts()\n",
    "\n",
    "\n"
   ]
  },
  {
   "cell_type": "markdown",
   "id": "b2c054d0",
   "metadata": {
    "id": "4a29c065-73b4-409f-a57c-b49c740f3d1d"
   },
   "source": [
    "#### **Question 1: From the preceding data exploration, what do you recognize?**"
   ]
  },
  {
   "cell_type": "markdown",
   "id": "a7286c89",
   "metadata": {
    "id": "yxdjmP4WJ4wH"
   },
   "source": [
    "A:75% of the city have really low aqi, and california has the most values in this dataset."
   ]
  },
  {
   "cell_type": "markdown",
   "id": "27cdc40b",
   "metadata": {
    "id": "fd48d0f0-3f90-455e-87a1-0da43fcac202"
   },
   "source": [
    "## Step 3. Statistical Tests\n",
    "\n",
    "Before you proceed, recall the following steps for conducting hypothesis testing:\n",
    "\n",
    "1. Formulate the null hypothesis and the alternative hypothesis.<br>\n",
    "2. Set the significance level.<br>\n",
    "3. Determine the appropriate test procedure.<br>\n",
    "4. Compute the p-value.<br>\n",
    "5. Draw your conclusion."
   ]
  },
  {
   "cell_type": "markdown",
   "id": "7b69578e",
   "metadata": {
    "id": "d572fbab-b82e-4898-96d5-93a8f20c3094"
   },
   "source": [
    "### Hypothesis 1: ROA is considering a metropolitan-focused approach. Within California, they want to know if the mean AQI in Los Angeles County is statistically different from the rest of California.\n",
    "\n",
    "Before proceeding with your analysis, it will be helpful to subset the data for your comparison."
   ]
  },
  {
   "cell_type": "code",
   "execution_count": 8,
   "id": "7d0d2f16",
   "metadata": {
    "id": "c8e42529-af00-4699-96b4-bd0f8989014a"
   },
   "outputs": [],
   "source": [
    "# Create dataframes for each sample being compared in your test\n",
    "california_data = aqi[aqi['state_name'] == 'California']\n",
    "# 1. Create dataframe for Los Angeles County\n",
    "la_data = california_data[california_data['county_name'] == 'Los Angeles']\n",
    "\n",
    "# 2. Create dataframe for the rest of California (excluding Los Angeles)\n",
    "rest_of_california = california_data[california_data['county_name'] != 'Los Angeles']\n",
    "\n"
   ]
  },
  {
   "cell_type": "code",
   "execution_count": 9,
   "id": "8f07546f",
   "metadata": {},
   "outputs": [
    {
     "name": "stdout",
     "output_type": "stream",
     "text": [
      "Los Angeles data:\n",
      "     date_local  state_name  county_name      city_name  \\\n",
      "33   2018-01-01  California  Los Angeles      Lancaster   \n",
      "42   2018-01-01  California  Los Angeles  Santa Clarita   \n",
      "61   2018-01-01  California  Los Angeles       Pasadena   \n",
      "76   2018-01-01  California  Los Angeles    Los Angeles   \n",
      "109  2018-01-01  California  Los Angeles    Los Angeles   \n",
      "\n",
      "                   local_site_name   parameter_name   units_of_measure  \\\n",
      "33       Lancaster-Division Street  Carbon monoxide  Parts per million   \n",
      "42                   Santa Clarita  Carbon monoxide  Parts per million   \n",
      "61                        Pasadena  Carbon monoxide  Parts per million   \n",
      "76                    LAX Hastings  Carbon monoxide  Parts per million   \n",
      "109  Los Angeles-North Main Street  Carbon monoxide  Parts per million   \n",
      "\n",
      "      aqi_log  \n",
      "33   2.079442  \n",
      "42   2.079442  \n",
      "61   2.833213  \n",
      "76   2.890372  \n",
      "109  2.890372  \n",
      "\n",
      "Rest of California data:\n",
      "    date_local  state_name     county_name      city_name  \\\n",
      "16  2018-01-01  California  San Bernardino        Ontario   \n",
      "18  2018-01-01  California      Sacramento   Arden-Arcade   \n",
      "26  2018-01-01  California          Orange       La Habra   \n",
      "27  2018-01-01  California         Alameda  Not in a city   \n",
      "34  2018-01-01  California          Fresno         Fresno   \n",
      "\n",
      "                 local_site_name   parameter_name   units_of_measure   aqi_log  \n",
      "16  Ontario Near Road (Etiwanda)  Carbon monoxide  Parts per million  2.484907  \n",
      "18     Sacramento-Del Paso Manor  Carbon monoxide  Parts per million  2.833213  \n",
      "26                      La Habra  Carbon monoxide  Parts per million  2.639057  \n",
      "27        Berkeley- Aquatic Park  Carbon monoxide  Parts per million  2.772589  \n",
      "34              Fresno - Garland  Carbon monoxide  Parts per million  2.772589  \n"
     ]
    }
   ],
   "source": [
    "# Check head\n",
    "print(\"Los Angeles data:\")\n",
    "print(la_data.head())\n",
    "\n",
    "print(\"\\nRest of California data:\")\n",
    "print(rest_of_california.head())\n"
   ]
  },
  {
   "cell_type": "markdown",
   "id": "5c04ed10",
   "metadata": {
    "id": "7dff76cf-3a49-49d2-9660-0b5ec17d5f0a"
   },
   "source": [
    "#### Formulate your hypothesis:"
   ]
  },
  {
   "cell_type": "markdown",
   "id": "c07715d7",
   "metadata": {
    "id": "fdddef66-6207-4cc0-853c-0b578674bbfc"
   },
   "source": [
    "**Formulate your null and alternative hypotheses:**\n",
    "\n",
    "*   $H_0$: There is no difference in the mean AQI between Los Angeles County and the rest of California.\n",
    "*   $H_A$: There is a difference in the mean AQI between Los Angeles County and the rest of California.\n"
   ]
  },
  {
   "cell_type": "markdown",
   "id": "4cc17fc2",
   "metadata": {
    "id": "5dac3136-16bf-45d2-a560-05fe5361f5cb"
   },
   "source": [
    "#### Set the significance level:"
   ]
  },
  {
   "cell_type": "code",
   "execution_count": 10,
   "id": "4f98348c",
   "metadata": {
    "id": "5ef36549-7ccb-4547-bf04-d23b166c65d4"
   },
   "outputs": [],
   "source": [
    "# For this analysis, the significance level is 5%"
   ]
  },
  {
   "cell_type": "markdown",
   "id": "e00779bf",
   "metadata": {
    "id": "4ebb679d-188d-4ca8-a886-6edb9ba1301e"
   },
   "source": [
    "#### Determine the appropriate test procedure:"
   ]
  },
  {
   "cell_type": "markdown",
   "id": "12b5d9d5",
   "metadata": {
    "id": "ab717428-91e5-4f88-b6d5-0a8c3034e010"
   },
   "source": [
    "Here, you are comparing the sample means between two independent samples. Therefore, you will utilize a **two-sample  𝑡-test**."
   ]
  },
  {
   "cell_type": "markdown",
   "id": "79e8bdad",
   "metadata": {
    "id": "e862eb4d-a170-4126-9373-a527bf5659da"
   },
   "source": [
    "#### Compute the P-value"
   ]
  },
  {
   "cell_type": "code",
   "execution_count": 11,
   "id": "43611433",
   "metadata": {
    "id": "83ef0d80-48ec-4a5a-8acd-0fab137243c3",
    "tags": []
   },
   "outputs": [
    {
     "name": "stdout",
     "output_type": "stream",
     "text": [
      "pvalue: 0.01340695749474014\n",
      "\n"
     ]
    }
   ],
   "source": [
    "# Compute your p-value here\n",
    "from scipy import stats\n",
    "statistic, pvalue = stats.ttest_ind(a=la_data['aqi_log'], b=rest_of_california['aqi_log'], equal_var=False)\n",
    "\n",
    "print (\"pvalue:\",pvalue)\n",
    "print()\n"
   ]
  },
  {
   "cell_type": "markdown",
   "id": "65fb6f62",
   "metadata": {
    "id": "2d62e8b0-59e5-471d-a5fc-d50395955a2a"
   },
   "source": [
    "#### **Question 2. What is your P-value for hypothesis 1, and what does this indicate for your null hypothesis?**"
   ]
  },
  {
   "cell_type": "code",
   "execution_count": 12,
   "id": "1b086156",
   "metadata": {},
   "outputs": [
    {
     "name": "stdout",
     "output_type": "stream",
     "text": [
      "pvalue < 0.05, Reject Ho.\n"
     ]
    }
   ],
   "source": [
    "# Extracting pvalue and make the test\n",
    "if pvalue < 0.05:\n",
    "    \n",
    "    print('pvalue < 0.05, Reject Ho.')          # Ha: There is a difference in the mean\n",
    "else:\n",
    "    print('pvalue > 0.05, Fail to reject Ho.')  # Ho: There is no difference in the mean"
   ]
  },
  {
   "cell_type": "markdown",
   "id": "f4bf632a",
   "metadata": {
    "id": "KUEKceuOJ1S2"
   },
   "source": [
    "A:it means that we can reject the ho hypothesis that there is no difference in the mean between Los Angeles County and the rest of California"
   ]
  },
  {
   "cell_type": "markdown",
   "id": "677358a1",
   "metadata": {
    "id": "94a88155-3328-4c7e-8e60-67a2ba9d7967"
   },
   "source": [
    "### Hypothesis 2: With limited resources, ROA has to choose between New York and Ohio for their next regional office. Does New York have a lower AQI than Ohio?\n",
    "\n",
    "Before proceeding with your analysis, it will be helpful to subset the data for your comparison."
   ]
  },
  {
   "cell_type": "code",
   "execution_count": 13,
   "id": "bb5270a3",
   "metadata": {
    "id": "f39b7d83-9fbf-4bba-90c2-c99f903badd8"
   },
   "outputs": [],
   "source": [
    "# Create dataframes for each sample being compared in your test\n",
    "# Filter the data for New York and Ohio\n",
    "ny_data = aqi[aqi['state_name'] == 'New York']\n",
    "ohio_data = aqi[aqi['state_name'] == 'Ohio']\n",
    "\n"
   ]
  },
  {
   "cell_type": "code",
   "execution_count": 14,
   "id": "bd48c8a7",
   "metadata": {},
   "outputs": [
    {
     "name": "stdout",
     "output_type": "stream",
     "text": [
      "New York AQI Data:\n",
      "     date_local state_name county_name    city_name           local_site_name  \\\n",
      "90   2018-01-01   New York        Erie  Cheektowaga         Buffalo Near-Road   \n",
      "113  2018-01-01   New York       Bronx     New York           PFIZER LAB SITE   \n",
      "124  2018-01-01   New York      Monroe    Rochester               ROCHESTER 2   \n",
      "167  2018-01-01   New York    New York     New York                      CCNY   \n",
      "173  2018-01-01   New York      Queens     New York  Queens College Near Road   \n",
      "\n",
      "      parameter_name   units_of_measure   aqi_log  \n",
      "90   Carbon monoxide  Parts per million  1.386294  \n",
      "113  Carbon monoxide  Parts per million  1.386294  \n",
      "124  Carbon monoxide  Parts per million  1.098612  \n",
      "167  Carbon monoxide  Parts per million  1.098612  \n",
      "173  Carbon monoxide  Parts per million  1.386294  \n",
      "\n",
      "Ohio AQI Data:\n",
      "    date_local state_name county_name   city_name local_site_name  \\\n",
      "1   2018-01-01       Ohio     Belmont   Shadyside       Shadyside   \n",
      "12  2018-01-01       Ohio    Hamilton  Cincinnati      Taft NCore   \n",
      "22  2018-01-01       Ohio       Stark      Canton          Canton   \n",
      "51  2018-01-01       Ohio      Summit       Akron    NIHF STEM MS   \n",
      "59  2018-01-01       Ohio    Cuyahoga   Cleveland  GT Craig NCore   \n",
      "\n",
      "     parameter_name   units_of_measure   aqi_log  \n",
      "1   Carbon monoxide  Parts per million  1.791759  \n",
      "12  Carbon monoxide  Parts per million  1.386294  \n",
      "22  Carbon monoxide  Parts per million  1.945910  \n",
      "51  Carbon monoxide  Parts per million  1.386294  \n",
      "59  Carbon monoxide  Parts per million  1.386294  \n"
     ]
    }
   ],
   "source": [
    "# Check head\n",
    "print(\"New York AQI Data:\")\n",
    "print(ny_data.head())\n",
    "\n",
    "print(\"\\nOhio AQI Data:\")\n",
    "print(ohio_data.head())\n"
   ]
  },
  {
   "cell_type": "markdown",
   "id": "40a06915",
   "metadata": {
    "id": "029b0f9c-0d0c-475f-b745-643a313e2b79"
   },
   "source": [
    "**Formulate your null and alternative hypotheses:**\n",
    "\n",
    "*   $H_0$: The mean AQI of New York is greater than or equal to that of Ohio.\n",
    "*   $H_A$: The mean AQI of New York is **below** that of Ohio.\n"
   ]
  },
  {
   "cell_type": "markdown",
   "id": "be3766f5",
   "metadata": {
    "id": "b12559f5-bd57-4664-be80-7208ca8818b4"
   },
   "source": [
    "#### Significance Level (remains at 5%)"
   ]
  },
  {
   "cell_type": "markdown",
   "id": "46d51e75",
   "metadata": {
    "id": "2b57fcf8-6f9d-4dae-ba0d-4af9a24d991d"
   },
   "source": [
    "#### Determine the appropriate test procedure:"
   ]
  },
  {
   "cell_type": "markdown",
   "id": "53d48117",
   "metadata": {
    "id": "8ac7075f-1342-4522-9c49-1f43574d05f8"
   },
   "source": [
    "Here, you are comparing the sample means between two independent samples in one direction. Therefore, you will utilize a **two-sample  𝑡-test**."
   ]
  },
  {
   "cell_type": "markdown",
   "id": "c77021dd",
   "metadata": {
    "id": "77f03fc8-0663-48b2-af4b-2936b35027e7"
   },
   "source": [
    "#### Compute the P-value"
   ]
  },
  {
   "cell_type": "code",
   "execution_count": 15,
   "id": "11dc861a",
   "metadata": {
    "id": "e495500f-c3d9-4cf2-ad1d-4687640a01b4",
    "tags": []
   },
   "outputs": [
    {
     "name": "stdout",
     "output_type": "stream",
     "text": [
      "pvalue: 0.06430898914287665\n",
      "\n"
     ]
    }
   ],
   "source": [
    "# Compute your p-value here\n",
    "statistic, pvalue = stats.ttest_ind(a=ny_data['aqi_log'], b=ohio_data['aqi_log'], equal_var=False)\n",
    "\n",
    "print (\"pvalue:\",pvalue)\n",
    "print()\n"
   ]
  },
  {
   "cell_type": "markdown",
   "id": "ed25d1aa",
   "metadata": {
    "id": "d56642db-8f45-405a-af7d-69bd3ad3fe58"
   },
   "source": [
    "#### **Question 3. What is your P-value for hypothesis 2, and what does this indicate for your null hypothesis?**"
   ]
  },
  {
   "cell_type": "code",
   "execution_count": 16,
   "id": "f6968f7b",
   "metadata": {},
   "outputs": [
    {
     "name": "stdout",
     "output_type": "stream",
     "text": [
      "pvalue > 0.05, Fail to reject Ho.\n"
     ]
    }
   ],
   "source": [
    "# Your code here.\n",
    "# Extracting pvalue and make the test\n",
    "if pvalue < 0.05:\n",
    "    \n",
    "    print('pvalue < 0.05, Reject Ho.')          # Ha: There is a difference in the mean\n",
    "else:\n",
    "    print('pvalue > 0.05, Fail to reject Ho.')  # Ho: There is no difference in the mean"
   ]
  },
  {
   "cell_type": "markdown",
   "id": "dda1923f",
   "metadata": {
    "id": "dFDxoQ9aJxz3"
   },
   "source": [
    "A:it means that we can not reject ho hypothesis that there is no difference in the mean between ny and ohio"
   ]
  },
  {
   "cell_type": "markdown",
   "id": "e1881b05",
   "metadata": {
    "id": "4308fdf1-3080-4697-a0b4-4c7c59c49b9b"
   },
   "source": [
    "###  Hypothesis 3: A new policy will affect those states with a mean AQI of 10 or greater. Will Michigan be affected by this new policy?\n",
    "\n",
    "Before proceeding with your analysis, it will be helpful to subset the data for your comparison."
   ]
  },
  {
   "cell_type": "code",
   "execution_count": 17,
   "id": "4948e5d5",
   "metadata": {
    "id": "559c43b4-ccb3-4a05-91d4-8f4aaee4d8b7"
   },
   "outputs": [
    {
     "name": "stdout",
     "output_type": "stream",
     "text": [
      "Michigan AQI Data:\n",
      "     date_local state_name county_name   city_name           local_site_name  \\\n",
      "65   2018-01-01   Michigan       Wayne     Livonia                LIVONIA-NR   \n",
      "122  2018-01-01   Michigan       Wayne     Detroit               West corner   \n",
      "123  2018-01-01   Michigan       Wayne     Detroit  MARK TWAIN MIDDLE SCHOOL   \n",
      "129  2018-01-01   Michigan       Wayne     Detroit                  ELIZA-NR   \n",
      "192  2018-01-01   Michigan       Wayne  Allen Park                Allen Park   \n",
      "\n",
      "      parameter_name   units_of_measure   aqi_log  \n",
      "65   Carbon monoxide  Parts per million  1.791759  \n",
      "122  Carbon monoxide  Parts per million  2.197225  \n",
      "123  Carbon monoxide  Parts per million  2.302585  \n",
      "129  Carbon monoxide  Parts per million  2.484907  \n",
      "192  Carbon monoxide  Parts per million  2.639057  \n"
     ]
    }
   ],
   "source": [
    "# Create dataframes for each sample being compared in your test\n",
    "# Filter the data for Michigan\n",
    "michigan_data = aqi[aqi['state_name'] == 'Michigan']\n",
    "\n",
    "# Check the first few rows to ensure the data is correct\n",
    "print(\"Michigan AQI Data:\")\n",
    "print(michigan_data.head())"
   ]
  },
  {
   "cell_type": "markdown",
   "id": "4f93c2b1",
   "metadata": {
    "id": "b25225ee-02d7-4d42-8746-9e68598b7bf6"
   },
   "source": [
    "**Formulate your null and alternative hypotheses here:**\n",
    "\n",
    "*   $H_0$: The mean AQI of Michigan is less than or equal to 10.\n",
    "*   $H_A$: The mean AQI of Michigan is greater than 10.\n"
   ]
  },
  {
   "cell_type": "markdown",
   "id": "7ba4bd78",
   "metadata": {
    "id": "32581125-a9ef-4b17-b8d5-0e1085d4c746"
   },
   "source": [
    "#### Significance Level (remains at 5%)"
   ]
  },
  {
   "cell_type": "markdown",
   "id": "dccd7f32",
   "metadata": {
    "id": "915f8cd0-d06b-44ab-81f6-0effa96fae09"
   },
   "source": [
    "#### Determine the appropriate test procedure:"
   ]
  },
  {
   "cell_type": "markdown",
   "id": "9cc0705b",
   "metadata": {
    "id": "6753e251-d152-48c9-a5ad-bd46b62636ee"
   },
   "source": [
    "Here, you are comparing one sample mean relative to a particular value in one direction. Therefore, you will utilize a **one-sample  𝑡-test**. "
   ]
  },
  {
   "cell_type": "markdown",
   "id": "92db5778",
   "metadata": {
    "id": "95443324-76bb-4473-b07b-dcc0c9be7251"
   },
   "source": [
    "#### Compute the P-value"
   ]
  },
  {
   "cell_type": "code",
   "execution_count": 18,
   "id": "42d701f3",
   "metadata": {
    "id": "8b86c9f5-284a-4ed7-b2d4-2b531e0092f9",
    "tags": []
   },
   "outputs": [
    {
     "name": "stdout",
     "output_type": "stream",
     "text": [
      "p-value: 2.2171478049783093e-11\n",
      "p-value < 0.05, Reject H0: The mean AQI of Michigan is greater than 10.\n"
     ]
    }
   ],
   "source": [
    "# Compute your p-value here\n",
    "statistic, pvalue = stats.ttest_1samp(michigan_data['aqi_log'], 10)\n",
    "\n",
    "# Print the p-value\n",
    "print(\"p-value:\", pvalue)\n",
    "\n",
    "# Hypothesis test result\n",
    "if pvalue < 0.05:\n",
    "    print('p-value < 0.05, Reject H0: The mean AQI of Michigan is greater than 10.')\n",
    "else:\n",
    "    print('p-value > 0.05, Fail to reject H0: The mean AQI of Michigan is not greater than 10.')"
   ]
  },
  {
   "cell_type": "markdown",
   "id": "82ffbb59",
   "metadata": {
    "id": "33175451-2fed-4105-8a46-1bfb0ad3b714"
   },
   "source": [
    "#### **Question 4. What is your P-value for hypothesis 3, and what does this indicate for your null hypothesis?**"
   ]
  },
  {
   "cell_type": "markdown",
   "id": "9df1bbd5",
   "metadata": {
    "id": "Li8YaXdqJuBF"
   },
   "source": [
    "A:p-value < 0.05, Reject H0: The mean AQI of Michigan is greater than 10."
   ]
  },
  {
   "cell_type": "markdown",
   "id": "30381388",
   "metadata": {
    "id": "oS3JWcpU127z"
   },
   "source": [
    "## Step 4. Results and Evaluation\n",
    "\n",
    "Now that you've completed your statistical tests, you can consider your hypotheses and the results you gathered."
   ]
  },
  {
   "cell_type": "markdown",
   "id": "79b07b00",
   "metadata": {
    "id": "q2p_8BmC16V-"
   },
   "source": [
    "#### **Question 5. Did your results show that the AQI in Los Angeles County was statistically different from the rest of California?**"
   ]
  },
  {
   "cell_type": "markdown",
   "id": "b41aa1a8",
   "metadata": {
    "id": "US0JnLp3JrfX"
   },
   "source": [
    "A:yes, because the result reject the h0 hypothesis"
   ]
  },
  {
   "cell_type": "markdown",
   "id": "34645182",
   "metadata": {
    "id": "G7-YawsW68Yd"
   },
   "source": [
    "#### **Question 6. Did New York or Ohio have a lower AQI?**"
   ]
  },
  {
   "cell_type": "markdown",
   "id": "5b379627",
   "metadata": {
    "id": "zzSBoJwMJpgG"
   },
   "source": [
    "A:no there is no statistical difference"
   ]
  },
  {
   "cell_type": "markdown",
   "id": "1617b113",
   "metadata": {
    "id": "ppAmh9nD7HkZ"
   },
   "source": [
    "#### **Question 7: Will Michigan be affected by the new policy impacting states with a mean AQI of 10 or greater?**\n",
    "\n"
   ]
  },
  {
   "cell_type": "markdown",
   "id": "93a5b6c2",
   "metadata": {
    "id": "1nfqgTngJnLV"
   },
   "source": [
    "A:no it will not"
   ]
  },
  {
   "cell_type": "markdown",
   "id": "33925d11",
   "metadata": {
    "id": "e2bf2c48-c712-4310-a83e-96a13edc4da1"
   },
   "source": [
    "# Conclusion\n",
    "\n",
    "**What are key takeaways from this project?**\n",
    "\n",
    "A: I learned how to do hypothesis test using python\n",
    "\n",
    "**What would you consider presenting to your manager as part of your findings?**\n",
    "\n",
    "A: that using stats.ttest_ind() is convenient.\n",
    "\n",
    "\n",
    "**What would you convey to external readers?**\n",
    "\n",
    "A: \n"
   ]
  },
  {
   "cell_type": "markdown",
   "id": "8310edc2",
   "metadata": {},
   "source": []
  }
 ],
 "metadata": {
  "colab": {
   "collapsed_sections": [
    "b12559f5-bd57-4664-be80-7208ca8818b4",
    "32581125-a9ef-4b17-b8d5-0e1085d4c746"
   ],
   "provenance": []
  },
  "kernelspec": {
   "display_name": "Python 3",
   "language": "python",
   "name": "python3"
  },
  "language_info": {
   "codemirror_mode": {
    "name": "ipython",
    "version": 3
   },
   "file_extension": ".py",
   "mimetype": "text/x-python",
   "name": "python",
   "nbconvert_exporter": "python",
   "pygments_lexer": "ipython3",
   "version": "3.13.1"
  }
 },
 "nbformat": 4,
 "nbformat_minor": 5
}
