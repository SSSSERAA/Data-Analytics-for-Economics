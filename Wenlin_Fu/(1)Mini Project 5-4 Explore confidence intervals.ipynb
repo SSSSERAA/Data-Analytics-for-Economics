{
 "cells": [
  {
   "cell_type": "markdown",
   "id": "326cba2a",
   "metadata": {
    "id": "d25eed62-5910-4d10-a976-c18c4f7d99f7"
   },
   "source": [
    "# Mini Project 5-4 Explore confidence intervals"
   ]
  },
  {
   "cell_type": "markdown",
   "id": "a0983bf9",
   "metadata": {
    "id": "b50579ec-09df-4bb1-ad5a-d28f4790ca16"
   },
   "source": [
    "## Introduction"
   ]
  },
  {
   "cell_type": "markdown",
   "id": "00c8de59",
   "metadata": {
    "id": "6a8992ac-22d5-41db-aa09-263b464950e0"
   },
   "source": [
    "The Air Quality Index (AQI) is the Environmental Protection Agency's index for reporting air quality. A value close to 0 signals little to no public health concern, while higher values are associated with increased risk to public health. The United States is considering a new federal policy that would create a subsidy for renewable energy in states observing an average AQI of 10 or above. <br>\n",
    "\n",
    "You've just started your new role as a data analyst in the Strategy division of Ripple Renewable Energy (RRE). **RRE operates in the following U.S. states: `California`, `Florida`, `Michigan`, `Ohio`, `Pennsylvania`, `Texas`.** You've been tasked with constructing an analysis which identifies which of these states are most likely to be affected, should the new federal policy be enacted."
   ]
  },
  {
   "cell_type": "markdown",
   "id": "ee185bda",
   "metadata": {
    "id": "6e4e3b8a-b5f9-4fe1-a824-0bd3aece693c"
   },
   "source": [
    "Your manager has requested that you do the following for your analysis:\n",
    "1. Provide a summary of the mean AQI for the states in which RRE operates.\n",
    "2. Construct a boxplot visualization for AQI of these states using `seaborn`.\n",
    "3. Evaluate which state(s) may be most affected by this policy, based on the data and your boxplot visualization.\n",
    "4. Construct a confidence interval for the RRE state with the highest mean AQI."
   ]
  },
  {
   "cell_type": "markdown",
   "id": "3dfd5d52",
   "metadata": {
    "id": "3b4dc9a5-d724-4696-a704-57fefa9d5938"
   },
   "source": [
    "## Step 1: Imports\n",
    "\n",
    "### Import packages\n",
    "\n",
    "Import `pandas` and `numpy`."
   ]
  },
  {
   "cell_type": "code",
   "execution_count": 2,
   "id": "9ef7e516",
   "metadata": {
    "id": "0b3d0e1c-23b9-4491-82a5-ac1e4bd36f30"
   },
   "outputs": [],
   "source": [
    "# Import relevant packages\n",
    "import numpy as np\n",
    "import pandas as pd\n",
    "from scipy import stats"
   ]
  },
  {
   "cell_type": "markdown",
   "id": "f6d33bb8",
   "metadata": {
    "id": "a4f7c0d0-027e-475a-bce5-ad96d059cd04"
   },
   "source": [
    "### Load the dataset\n",
    "\n",
    "The dataset provided gives national Air Quality Index (AQI) measurements by state over time.  `Pandas` is used to import the file `c4_epa_air_quality.csv` as a DataFrame named `aqi`. As shown in this cell, the dataset has been automatically loaded in for you. You do not need to download the .csv file, or provide more code, in order to access the dataset and proceed with this lab. Please continue with this activity by completing the following instructions.\n",
    "\n",
    "*Note: For the purposes of your analysis, you can assume this data is randomly sampled from a larger population.*"
   ]
  },
  {
   "cell_type": "code",
   "execution_count": 3,
   "id": "5b162edf",
   "metadata": {
    "id": "1ce82ed7-cf32-4028-ac77-a377e7638458",
    "tags": []
   },
   "outputs": [],
   "source": [
    "# Import data\n",
    "aqi = pd.read_csv('modified_c4_epa_air_quality.csv')\n",
    "aqi = aqi.dropna()"
   ]
  },
  {
   "cell_type": "markdown",
   "id": "132ac09d",
   "metadata": {
    "id": "JLW4ftpm15LA"
   },
   "source": [
    "## Step 2: Data exploration"
   ]
  },
  {
   "cell_type": "markdown",
   "id": "f151ccc0",
   "metadata": {
    "id": "c1ee0813-5e74-4564-8ea1-8d724700754a"
   },
   "source": [
    "### Explore your dataset\n",
    "\n",
    "Before proceeding to your deliverables, spend some time exploring the `aqi` DataFrame. "
   ]
  },
  {
   "cell_type": "code",
   "execution_count": 4,
   "id": "28cb7b9a",
   "metadata": {},
   "outputs": [
    {
     "data": {
      "text/html": [
       "<div>\n",
       "<style scoped>\n",
       "    .dataframe tbody tr th:only-of-type {\n",
       "        vertical-align: middle;\n",
       "    }\n",
       "\n",
       "    .dataframe tbody tr th {\n",
       "        vertical-align: top;\n",
       "    }\n",
       "\n",
       "    .dataframe thead th {\n",
       "        text-align: right;\n",
       "    }\n",
       "</style>\n",
       "<table border=\"1\" class=\"dataframe\">\n",
       "  <thead>\n",
       "    <tr style=\"text-align: right;\">\n",
       "      <th></th>\n",
       "      <th>date_local</th>\n",
       "      <th>state_name</th>\n",
       "      <th>county_name</th>\n",
       "      <th>city_name</th>\n",
       "      <th>local_site_name</th>\n",
       "      <th>parameter_name</th>\n",
       "      <th>units_of_measure</th>\n",
       "      <th>aqi_log</th>\n",
       "    </tr>\n",
       "  </thead>\n",
       "  <tbody>\n",
       "    <tr>\n",
       "      <th>0</th>\n",
       "      <td>2018-01-01</td>\n",
       "      <td>Arizona</td>\n",
       "      <td>Maricopa</td>\n",
       "      <td>Buckeye</td>\n",
       "      <td>BUCKEYE</td>\n",
       "      <td>Carbon monoxide</td>\n",
       "      <td>Parts per million</td>\n",
       "      <td>2.079442</td>\n",
       "    </tr>\n",
       "    <tr>\n",
       "      <th>1</th>\n",
       "      <td>2018-01-01</td>\n",
       "      <td>Ohio</td>\n",
       "      <td>Belmont</td>\n",
       "      <td>Shadyside</td>\n",
       "      <td>Shadyside</td>\n",
       "      <td>Carbon monoxide</td>\n",
       "      <td>Parts per million</td>\n",
       "      <td>1.791759</td>\n",
       "    </tr>\n",
       "    <tr>\n",
       "      <th>2</th>\n",
       "      <td>2018-01-01</td>\n",
       "      <td>Wyoming</td>\n",
       "      <td>Teton</td>\n",
       "      <td>Not in a city</td>\n",
       "      <td>Yellowstone National Park - Old Faithful Snow ...</td>\n",
       "      <td>Carbon monoxide</td>\n",
       "      <td>Parts per million</td>\n",
       "      <td>1.098612</td>\n",
       "    </tr>\n",
       "    <tr>\n",
       "      <th>3</th>\n",
       "      <td>2018-01-01</td>\n",
       "      <td>Pennsylvania</td>\n",
       "      <td>Philadelphia</td>\n",
       "      <td>Philadelphia</td>\n",
       "      <td>North East Waste (NEW)</td>\n",
       "      <td>Carbon monoxide</td>\n",
       "      <td>Parts per million</td>\n",
       "      <td>1.386294</td>\n",
       "    </tr>\n",
       "    <tr>\n",
       "      <th>4</th>\n",
       "      <td>2018-01-01</td>\n",
       "      <td>Iowa</td>\n",
       "      <td>Polk</td>\n",
       "      <td>Des Moines</td>\n",
       "      <td>CARPENTER</td>\n",
       "      <td>Carbon monoxide</td>\n",
       "      <td>Parts per million</td>\n",
       "      <td>1.386294</td>\n",
       "    </tr>\n",
       "    <tr>\n",
       "      <th>5</th>\n",
       "      <td>2018-01-01</td>\n",
       "      <td>Hawaii</td>\n",
       "      <td>Honolulu</td>\n",
       "      <td>Not in a city</td>\n",
       "      <td>Kapolei</td>\n",
       "      <td>Carbon monoxide</td>\n",
       "      <td>Parts per million</td>\n",
       "      <td>2.708050</td>\n",
       "    </tr>\n",
       "    <tr>\n",
       "      <th>6</th>\n",
       "      <td>2018-01-01</td>\n",
       "      <td>Hawaii</td>\n",
       "      <td>Honolulu</td>\n",
       "      <td>Not in a city</td>\n",
       "      <td>Kapolei</td>\n",
       "      <td>Carbon monoxide</td>\n",
       "      <td>Parts per million</td>\n",
       "      <td>1.098612</td>\n",
       "    </tr>\n",
       "    <tr>\n",
       "      <th>8</th>\n",
       "      <td>2018-01-01</td>\n",
       "      <td>Hawaii</td>\n",
       "      <td>Honolulu</td>\n",
       "      <td>Honolulu</td>\n",
       "      <td>Honolulu</td>\n",
       "      <td>Carbon monoxide</td>\n",
       "      <td>Parts per million</td>\n",
       "      <td>1.791759</td>\n",
       "    </tr>\n",
       "    <tr>\n",
       "      <th>9</th>\n",
       "      <td>2018-01-01</td>\n",
       "      <td>Colorado</td>\n",
       "      <td>Larimer</td>\n",
       "      <td>Fort Collins</td>\n",
       "      <td>Fort Collins - CSU - S. Mason</td>\n",
       "      <td>Carbon monoxide</td>\n",
       "      <td>Parts per million</td>\n",
       "      <td>1.945910</td>\n",
       "    </tr>\n",
       "    <tr>\n",
       "      <th>10</th>\n",
       "      <td>2018-01-01</td>\n",
       "      <td>Minnesota</td>\n",
       "      <td>Dakota</td>\n",
       "      <td>Rosemount</td>\n",
       "      <td>Flint Hills Refinery 420</td>\n",
       "      <td>Carbon monoxide</td>\n",
       "      <td>Parts per million</td>\n",
       "      <td>1.386294</td>\n",
       "    </tr>\n",
       "  </tbody>\n",
       "</table>\n",
       "</div>"
      ],
      "text/plain": [
       "    date_local    state_name   county_name      city_name  \\\n",
       "0   2018-01-01       Arizona      Maricopa        Buckeye   \n",
       "1   2018-01-01          Ohio       Belmont      Shadyside   \n",
       "2   2018-01-01       Wyoming         Teton  Not in a city   \n",
       "3   2018-01-01  Pennsylvania  Philadelphia   Philadelphia   \n",
       "4   2018-01-01          Iowa          Polk     Des Moines   \n",
       "5   2018-01-01        Hawaii      Honolulu  Not in a city   \n",
       "6   2018-01-01        Hawaii      Honolulu  Not in a city   \n",
       "8   2018-01-01        Hawaii      Honolulu       Honolulu   \n",
       "9   2018-01-01      Colorado       Larimer   Fort Collins   \n",
       "10  2018-01-01     Minnesota        Dakota      Rosemount   \n",
       "\n",
       "                                      local_site_name   parameter_name  \\\n",
       "0                                             BUCKEYE  Carbon monoxide   \n",
       "1                                           Shadyside  Carbon monoxide   \n",
       "2   Yellowstone National Park - Old Faithful Snow ...  Carbon monoxide   \n",
       "3                              North East Waste (NEW)  Carbon monoxide   \n",
       "4                                           CARPENTER  Carbon monoxide   \n",
       "5                                             Kapolei  Carbon monoxide   \n",
       "6                                             Kapolei  Carbon monoxide   \n",
       "8                                            Honolulu  Carbon monoxide   \n",
       "9                       Fort Collins - CSU - S. Mason  Carbon monoxide   \n",
       "10                           Flint Hills Refinery 420  Carbon monoxide   \n",
       "\n",
       "     units_of_measure   aqi_log  \n",
       "0   Parts per million  2.079442  \n",
       "1   Parts per million  1.791759  \n",
       "2   Parts per million  1.098612  \n",
       "3   Parts per million  1.386294  \n",
       "4   Parts per million  1.386294  \n",
       "5   Parts per million  2.708050  \n",
       "6   Parts per million  1.098612  \n",
       "8   Parts per million  1.791759  \n",
       "9   Parts per million  1.945910  \n",
       "10  Parts per million  1.386294  "
      ]
     },
     "execution_count": 4,
     "metadata": {},
     "output_type": "execute_result"
    }
   ],
   "source": [
    "# Code Here\n",
    "aqi.head(10)"
   ]
  },
  {
   "cell_type": "code",
   "execution_count": 5,
   "id": "77f709a9",
   "metadata": {},
   "outputs": [
    {
     "name": "stdout",
     "output_type": "stream",
     "text": [
      "<class 'pandas.core.frame.DataFrame'>\n",
      "Index: 257 entries, 0 to 259\n",
      "Data columns (total 8 columns):\n",
      " #   Column            Non-Null Count  Dtype  \n",
      "---  ------            --------------  -----  \n",
      " 0   date_local        257 non-null    object \n",
      " 1   state_name        257 non-null    object \n",
      " 2   county_name       257 non-null    object \n",
      " 3   city_name         257 non-null    object \n",
      " 4   local_site_name   257 non-null    object \n",
      " 5   parameter_name    257 non-null    object \n",
      " 6   units_of_measure  257 non-null    object \n",
      " 7   aqi_log           257 non-null    float64\n",
      "dtypes: float64(1), object(7)\n",
      "memory usage: 18.1+ KB\n"
     ]
    }
   ],
   "source": [
    "# Code Here\n",
    "aqi.info()"
   ]
  },
  {
   "cell_type": "code",
   "execution_count": 6,
   "id": "353122ff",
   "metadata": {},
   "outputs": [
    {
     "data": {
      "text/html": [
       "<div>\n",
       "<style scoped>\n",
       "    .dataframe tbody tr th:only-of-type {\n",
       "        vertical-align: middle;\n",
       "    }\n",
       "\n",
       "    .dataframe tbody tr th {\n",
       "        vertical-align: top;\n",
       "    }\n",
       "\n",
       "    .dataframe thead th {\n",
       "        text-align: right;\n",
       "    }\n",
       "</style>\n",
       "<table border=\"1\" class=\"dataframe\">\n",
       "  <thead>\n",
       "    <tr style=\"text-align: right;\">\n",
       "      <th></th>\n",
       "      <th>aqi_log</th>\n",
       "    </tr>\n",
       "  </thead>\n",
       "  <tbody>\n",
       "    <tr>\n",
       "      <th>count</th>\n",
       "      <td>257.000000</td>\n",
       "    </tr>\n",
       "    <tr>\n",
       "      <th>mean</th>\n",
       "      <td>1.768918</td>\n",
       "    </tr>\n",
       "    <tr>\n",
       "      <th>std</th>\n",
       "      <td>0.716498</td>\n",
       "    </tr>\n",
       "    <tr>\n",
       "      <th>min</th>\n",
       "      <td>0.000000</td>\n",
       "    </tr>\n",
       "    <tr>\n",
       "      <th>25%</th>\n",
       "      <td>1.098612</td>\n",
       "    </tr>\n",
       "    <tr>\n",
       "      <th>50%</th>\n",
       "      <td>1.791759</td>\n",
       "    </tr>\n",
       "    <tr>\n",
       "      <th>75%</th>\n",
       "      <td>2.302585</td>\n",
       "    </tr>\n",
       "    <tr>\n",
       "      <th>max</th>\n",
       "      <td>3.931826</td>\n",
       "    </tr>\n",
       "  </tbody>\n",
       "</table>\n",
       "</div>"
      ],
      "text/plain": [
       "          aqi_log\n",
       "count  257.000000\n",
       "mean     1.768918\n",
       "std      0.716498\n",
       "min      0.000000\n",
       "25%      1.098612\n",
       "50%      1.791759\n",
       "75%      2.302585\n",
       "max      3.931826"
      ]
     },
     "execution_count": 6,
     "metadata": {},
     "output_type": "execute_result"
    }
   ],
   "source": [
    "# Code Here\n",
    "aqi.describe()"
   ]
  },
  {
   "cell_type": "markdown",
   "id": "bc97d0a2",
   "metadata": {
    "id": "DOPQ6EL9ZmrB"
   },
   "source": [
    "**Question:** What time range does this data cover?"
   ]
  },
  {
   "cell_type": "code",
   "execution_count": 7,
   "id": "6a563115",
   "metadata": {},
   "outputs": [
    {
     "name": "stdout",
     "output_type": "stream",
     "text": [
      "Time Range: 2018-01-01 00:00:00 to 2018-01-01 00:00:00\n"
     ]
    }
   ],
   "source": [
    "# Code Here\n",
    "# Convert 'date_local' column to datetime format if it's not already\n",
    "aqi['date_local'] = pd.to_datetime(aqi['date_local'])\n",
    "\n",
    "# Find the minimum and maximum dates\n",
    "start_date = aqi['date_local'].min()\n",
    "end_date = aqi['date_local'].max()\n",
    "\n",
    "print(f\"Time Range: {start_date} to {end_date}\")\n"
   ]
  },
  {
   "cell_type": "markdown",
   "id": "e5d2ee6d",
   "metadata": {},
   "source": [
    "A:"
   ]
  },
  {
   "cell_type": "markdown",
   "id": "e16373ab",
   "metadata": {
    "id": "Sw0U5NWpZ1wp"
   },
   "source": [
    "**Question:** What are the minimum and maximum AQI values observed in the dataset?"
   ]
  },
  {
   "cell_type": "code",
   "execution_count": 8,
   "id": "2b0cf215",
   "metadata": {},
   "outputs": [
    {
     "name": "stdout",
     "output_type": "stream",
     "text": [
      "min aqi is:0.0\n",
      "max aqi is 3.9318256327243257\n"
     ]
    }
   ],
   "source": [
    "# Code \n",
    "min_aqi=aqi['aqi_log'].min()\n",
    "max_aqi=aqi['aqi_log'].max()\n",
    "\n",
    "print(f\"min aqi is:{min_aqi}\")\n",
    "print(f\"max aqi is {max_aqi}\")"
   ]
  },
  {
   "cell_type": "markdown",
   "id": "57dc29f5",
   "metadata": {
    "id": "LWBj7cKZZ_du"
   },
   "source": [
    "**Question:** Are all states equally represented in the dataset?"
   ]
  },
  {
   "cell_type": "code",
   "execution_count": 9,
   "id": "a9315614",
   "metadata": {},
   "outputs": [
    {
     "name": "stdout",
     "output_type": "stream",
     "text": [
      "                   State  Count\n",
      "0             California     66\n",
      "1                Arizona     14\n",
      "2                   Ohio     12\n",
      "3                Florida     12\n",
      "4                  Texas     10\n",
      "5               New York     10\n",
      "6           Pennsylvania      9\n",
      "7               Colorado      9\n",
      "8               Michigan      9\n",
      "9              Minnesota      7\n",
      "10            New Jersey      6\n",
      "11               Indiana      5\n",
      "12         Massachusetts      4\n",
      "13              Oklahoma      4\n",
      "14        North Carolina      4\n",
      "15                Nevada      4\n",
      "16              Maryland      4\n",
      "17           Connecticut      4\n",
      "18              Virginia      4\n",
      "19                  Utah      3\n",
      "20               Vermont      3\n",
      "21              Illinois      3\n",
      "22              Missouri      3\n",
      "23                Hawaii      3\n",
      "24                  Iowa      3\n",
      "25               Wyoming      3\n",
      "26              Kentucky      3\n",
      "27                Alaska      2\n",
      "28          Rhode Island      2\n",
      "29               Georgia      2\n",
      "30             Tennessee      2\n",
      "31            Washington      2\n",
      "32               Montana      2\n",
      "33                 Maine      2\n",
      "34                 Idaho      2\n",
      "35            New Mexico      2\n",
      "36  District Of Columbia      2\n",
      "37                Oregon      2\n",
      "38         New Hampshire      2\n",
      "39                Kansas      1\n",
      "40               Alabama      1\n",
      "41          South Dakota      1\n",
      "42              Nebraska      1\n",
      "43           Mississippi      1\n",
      "44             Louisiana      1\n",
      "45              Delaware      1\n",
      "46          North Dakota      1\n",
      "47              Arkansas      1\n",
      "48           Puerto Rico      1\n",
      "49        South Carolina      1\n",
      "50             Wisconsin      1\n"
     ]
    }
   ],
   "source": [
    "# Code Here\n",
    "# Count occurrences of each state\n",
    "state_counts = aqi['state_name'].value_counts()\n",
    "\n",
    "# Convert to DataFrame for better visualization\n",
    "state_counts_df = pd.DataFrame({'State': state_counts.index, 'Count': state_counts.values})\n",
    "\n",
    "# Display the table\n",
    "print(state_counts_df)"
   ]
  },
  {
   "cell_type": "code",
   "execution_count": null,
   "id": "59cb6d1e",
   "metadata": {},
   "outputs": [],
   "source": [
    "# No it's represented unequally"
   ]
  },
  {
   "cell_type": "markdown",
   "id": "931a2bea",
   "metadata": {},
   "source": [
    "A:"
   ]
  },
  {
   "cell_type": "markdown",
   "id": "4c7942f7",
   "metadata": {
    "id": "fd48d0f0-3f90-455e-87a1-0da43fcac202"
   },
   "source": [
    "## Step 3: Statistical tests\n",
    "\n",
    "### Summarize the mean AQI for RRE states\n",
    "\n",
    "Start with your first deliverable. Summarize the mean AQI for the states in which RRE operates (California, Florida, Michigan, Ohio, Pennsylvania, and Texas)."
   ]
  },
  {
   "cell_type": "code",
   "execution_count": 10,
   "id": "6295f8da",
   "metadata": {
    "id": "83ef0d80-48ec-4a5a-8acd-0fab137243c3",
    "tags": []
   },
   "outputs": [
    {
     "name": "stdout",
     "output_type": "stream",
     "text": [
      "<bound method DataFrame.rename of      state_name  Mean_AQI\n",
      "0    California  2.413149\n",
      "1       Florida  1.782627\n",
      "2      Michigan  2.132079\n",
      "3          Ohio  1.428586\n",
      "4  Pennsylvania  1.275564\n",
      "5         Texas  1.283000>\n"
     ]
    }
   ],
   "source": [
    "# Summarize the mean AQI for RRE states.\n",
    "\n",
    "# Create a list of RRE states.\n",
    "rre_states = [\"California\", \"Florida\", \"Michigan\", \"Ohio\", \"Pennsylvania\", \"Texas\"]\n",
    "\n",
    "# Subset the data to only include rows where the state is in the RRE list\n",
    "rre_data = aqi[aqi['state_name'].isin(rre_states)]\n",
    "\n",
    "# Compute the mean AQI for each RRE state and alias it as 'aqi_rre'\n",
    "aqi_rre = rre_data.groupby(\"state_name\")['aqi_log'].mean().reset_index()\n",
    "\n",
    "# Rename the column for clarity\n",
    "aqi_rre.rename(columns={'aqi_log': 'Mean_AQI'}, inplace=True)\n",
    "\n",
    "# Display the table\n",
    "print(aqi_rre.rename)\n",
    "\n",
    "\n",
    "# Find the mean aqi for each of the RRE states.\n",
    " #alias as aqi_rre"
   ]
  },
  {
   "cell_type": "markdown",
   "id": "4fcd0826",
   "metadata": {
    "id": "883abc8c-5aa9-480e-ac4b-c1c64f8ae0fd"
   },
   "source": [
    "### Construct a boxplot visualization for the AQI of these states\n",
    "\n",
    "Seaborn is a simple visualization library, commonly imported as `sns`. Import `seaborn`. Then utilize a boxplot visualization from this library to compare the distributions of AQI scores by state."
   ]
  },
  {
   "cell_type": "code",
   "execution_count": 11,
   "id": "7e16b23d",
   "metadata": {
    "id": "ca381599-7cba-4454-922c-3383a2b7608d"
   },
   "outputs": [
    {
     "name": "stdout",
     "output_type": "stream",
     "text": [
      "Requirement already satisfied: seaborn in c:\\users\\miss sera\\appdata\\local\\programs\\python\\python313\\lib\\site-packages (0.13.2)\n",
      "Requirement already satisfied: numpy!=1.24.0,>=1.20 in c:\\users\\miss sera\\appdata\\local\\programs\\python\\python313\\lib\\site-packages (from seaborn) (2.2.3)\n",
      "Requirement already satisfied: pandas>=1.2 in c:\\users\\miss sera\\appdata\\local\\programs\\python\\python313\\lib\\site-packages (from seaborn) (2.2.3)\n",
      "Requirement already satisfied: matplotlib!=3.6.1,>=3.4 in c:\\users\\miss sera\\appdata\\local\\programs\\python\\python313\\lib\\site-packages (from seaborn) (3.10.0)\n",
      "Requirement already satisfied: contourpy>=1.0.1 in c:\\users\\miss sera\\appdata\\local\\programs\\python\\python313\\lib\\site-packages (from matplotlib!=3.6.1,>=3.4->seaborn) (1.3.1)\n",
      "Requirement already satisfied: cycler>=0.10 in c:\\users\\miss sera\\appdata\\local\\programs\\python\\python313\\lib\\site-packages (from matplotlib!=3.6.1,>=3.4->seaborn) (0.12.1)\n",
      "Requirement already satisfied: fonttools>=4.22.0 in c:\\users\\miss sera\\appdata\\local\\programs\\python\\python313\\lib\\site-packages (from matplotlib!=3.6.1,>=3.4->seaborn) (4.56.0)\n",
      "Requirement already satisfied: kiwisolver>=1.3.1 in c:\\users\\miss sera\\appdata\\local\\programs\\python\\python313\\lib\\site-packages (from matplotlib!=3.6.1,>=3.4->seaborn) (1.4.8)\n",
      "Requirement already satisfied: packaging>=20.0 in c:\\users\\miss sera\\appdata\\roaming\\python\\python313\\site-packages (from matplotlib!=3.6.1,>=3.4->seaborn) (24.2)\n",
      "Requirement already satisfied: pillow>=8 in c:\\users\\miss sera\\appdata\\local\\programs\\python\\python313\\lib\\site-packages (from matplotlib!=3.6.1,>=3.4->seaborn) (11.1.0)\n",
      "Requirement already satisfied: pyparsing>=2.3.1 in c:\\users\\miss sera\\appdata\\local\\programs\\python\\python313\\lib\\site-packages (from matplotlib!=3.6.1,>=3.4->seaborn) (3.2.1)\n",
      "Requirement already satisfied: python-dateutil>=2.7 in c:\\users\\miss sera\\appdata\\roaming\\python\\python313\\site-packages (from matplotlib!=3.6.1,>=3.4->seaborn) (2.9.0.post0)\n",
      "Requirement already satisfied: pytz>=2020.1 in c:\\users\\miss sera\\appdata\\local\\programs\\python\\python313\\lib\\site-packages (from pandas>=1.2->seaborn) (2025.1)\n",
      "Requirement already satisfied: tzdata>=2022.7 in c:\\users\\miss sera\\appdata\\local\\programs\\python\\python313\\lib\\site-packages (from pandas>=1.2->seaborn) (2025.1)\n",
      "Requirement already satisfied: six>=1.5 in c:\\users\\miss sera\\appdata\\roaming\\python\\python313\\site-packages (from python-dateutil>=2.7->matplotlib!=3.6.1,>=3.4->seaborn) (1.17.0)\n"
     ]
    },
    {
     "name": "stderr",
     "output_type": "stream",
     "text": [
      "\n",
      "[notice] A new release of pip is available: 24.3.1 -> 25.0.1\n",
      "[notice] To update, run: python.exe -m pip install --upgrade pip\n"
     ]
    }
   ],
   "source": [
    "# Import seaborn as sns.\n",
    "!pip install seaborn\n",
    "import seaborn as sns"
   ]
  },
  {
   "cell_type": "markdown",
   "id": "9d8a22da",
   "metadata": {
    "id": "01510e30-26e6-4408-9599-e7016fdb9948"
   },
   "source": [
    "### Create an in-line visualization showing the distribution of `aqi` by `state_name`\n",
    "\n",
    "Now, create an in-line visualization showing the distribution of `aqi` by `state_name`."
   ]
  },
  {
   "cell_type": "code",
   "execution_count": 12,
   "id": "bb082e60",
   "metadata": {
    "id": "50040050-1ff3-4d0e-a9e1-d2fd00454ce3"
   },
   "outputs": [
    {
     "data": {
      "image/png": "[encoded data removed]",
      "text/plain": [
       "<Figure size 1200x600 with 1 Axes>"
      ]
     },
     "metadata": {},
     "output_type": "display_data"
    }
   ],
   "source": [
    "import matplotlib.pyplot as plt\n",
    "import seaborn as sns\n",
    "\n",
    "# Set figure size\n",
    "plt.figure(figsize=(12,6))\n",
    "\n",
    "# Use full dataset, not aggregated data\n",
    "sns.boxplot(x='state_name', y='aqi_log', data=rre_data)\n",
    "\n",
    "# Rotate x-axis labels for readability\n",
    "plt.xticks(rotation=90)\n",
    "\n",
    "# Add titles and labels\n",
    "plt.title(\"AQI Distribution by State\")\n",
    "plt.xlabel(\"State\")\n",
    "plt.ylabel(\"AQI Log\")\n",
    "\n",
    "# Show the plot\n",
    "plt.show()\n"
   ]
  },
  {
   "cell_type": "markdown",
   "id": "b21f15a0",
   "metadata": {
    "id": "5e2af1a1-7816-4d8b-929b-41268234a579"
   },
   "source": [
    "**Question:** Based on the data and your visualizations, which state(s) do you suspect will be most affected by this policy?"
   ]
  },
  {
   "cell_type": "markdown",
   "id": "eb921439",
   "metadata": {
    "id": "ZbPjfp_wgVpg"
   },
   "source": [
    "A:California"
   ]
  },
  {
   "cell_type": "markdown",
   "id": "22c1ff50",
   "metadata": {
    "id": "b01231e9-0a80-4457-a47e-c62c2c230ae4"
   },
   "source": [
    "### Construct a confidence interval for the RRE state with the highest mean AQI\n",
    "\n",
    "Recall the 4-step process in constructing a confidence interval:\n",
    "\n",
    "1.   Identify a sample statistic.\n",
    "2.   Choose a confidence level.\n",
    "3.   Find the margin of error. \n",
    "4.   Calculate the interval."
   ]
  },
  {
   "cell_type": "markdown",
   "id": "ea53774b",
   "metadata": {
    "id": "587f8053-6cbd-454a-a390-9307e5a65b1b"
   },
   "source": [
    "### Construct your sample statistic\n",
    "\n",
    "To contruct your sample statistic, find the mean AQI for CA."
   ]
  },
  {
   "cell_type": "code",
   "execution_count": 14,
   "id": "00018a66",
   "metadata": {
    "id": "58af6462-80ab-4055-85de-c99c87129752"
   },
   "outputs": [
    {
     "name": "stdout",
     "output_type": "stream",
     "text": [
      "Mean AQI for California: 2.413148768367913\n"
     ]
    }
   ],
   "source": [
    "# Find the mean aqi for CA state.\n",
    "ca_data = aqi[aqi['state_name']== \"California\"]\n",
    "\n",
    "\n",
    "# Compute the mean AQI for California\n",
    "mean_aqi_ca = ca_data['aqi_log'].mean()\n",
    "\n",
    "print(f\"Mean AQI for California: {mean_aqi_ca}\")\n"
   ]
  },
  {
   "cell_type": "markdown",
   "id": "5882492a",
   "metadata": {
    "id": "9a15605d-5b99-4033-940f-1fab630ad6c1"
   },
   "source": [
    "### Choose your confidence level\n",
    "\n",
    "Choose your confidence level for your analysis. The most typical confidence level chosen is 95%; however, you can choose 90% or 99% if you want decrease or increase (respectively) your level of confidence about your result."
   ]
  },
  {
   "cell_type": "code",
   "execution_count": null,
   "id": "3195c00c",
   "metadata": {
    "id": "0a9c1f39-b4e2-4ec3-9369-dd313fd2d835",
    "outputId": "c035e170-c781-46b7-d1ec-5af2c66a7b1f"
   },
   "outputs": [],
   "source": [
    "# Input your confidence level here:\n",
    "0.95"
   ]
  },
  {
   "cell_type": "markdown",
   "id": "c3e96e5a",
   "metadata": {
    "id": "ac18cb1b-40ca-4de3-bc0a-08be82f64781"
   },
   "source": [
    "### Find your margin of error (ME)\n",
    "\n",
    "Recall **margin of error = z * standard error**, where z is the appropriate z-value for the given confidence level. To calculate your margin of error:\n",
    "\n",
    "- Find your z-value. \n",
    "- Find the approximate z for common confidence levels.\n",
    "- Calculate your **standard error** estimate. \n",
    "\n",
    "| Confidence Level | Z Score |\n",
    "| --- | --- |\n",
    "| 90% | 1.65 |\n",
    "| 95% | 1.96 |\n",
    "| 99% | 2.58 |\n"
   ]
  },
  {
   "cell_type": "code",
   "execution_count": 16,
   "id": "cff1fb92",
   "metadata": {
    "id": "930e5fb6-171c-4bba-a601-d5e3b84e2fdb"
   },
   "outputs": [
    {
     "name": "stdout",
     "output_type": "stream",
     "text": [
      "Margin of Error: 0.14533720746088516\n"
     ]
    }
   ],
   "source": [
    "# Calculate your margin of error.\n",
    "\n",
    "# Begin by identifying the z associated with your chosen confidence level.\n",
    "\n",
    "z_value = 1.96\n",
    "\n",
    "# Next, calculate your standard error.\n",
    "stadard_error = ca_data['aqi_log'].std() / np.sqrt(len(ca_data))\n",
    "\n",
    "# Lastly, use the preceding result to calculate your margin of error.\n",
    "margin_of_error = z_value * stadard_error\n",
    "print(f\"Margin of Error: {margin_of_error}\")\n"
   ]
  },
  {
   "cell_type": "markdown",
   "id": "64e8305f",
   "metadata": {
    "id": "6b0d173b-06d4-4e82-81d8-092b24132bd2"
   },
   "source": [
    "### Calculate your interval\n",
    "\n",
    "Calculate both a lower and upper limit surrounding your sample mean to create your interval."
   ]
  },
  {
   "cell_type": "code",
   "execution_count": 17,
   "id": "53c865a3",
   "metadata": {
    "id": "f83a7ba7-afdd-4d8c-8b78-849cff363180"
   },
   "outputs": [
    {
     "name": "stdout",
     "output_type": "stream",
     "text": [
      "Sample Mean: 2.4131\n",
      "Margin of Error: 0.1453\n",
      "95% Confidence Interval: (2.2678, 2.5585)\n"
     ]
    }
   ],
   "source": [
    "# Calculate your confidence interval (upper and lower limits).\n",
    "# Compute confidence interval\n",
    "lower_bound = mean_aqi_ca - margin_of_error\n",
    "upper_bound = mean_aqi_ca + margin_of_error\n",
    "\n",
    "# Print results\n",
    "print(f\"Sample Mean: {mean_aqi_ca:.4f}\")\n",
    "print(f\"Margin of Error: {margin_of_error:.4f}\")\n",
    "print(f\"95% Confidence Interval: ({lower_bound:.4f}, {upper_bound:.4f})\")"
   ]
  },
  {
   "cell_type": "markdown",
   "id": "b62e7eb8",
   "metadata": {
    "id": "82e06ed3-2ec3-4851-b3df-2c6d969ea616"
   },
   "source": [
    "### Alternative: Construct the interval using `scipy.stats.norm.interval()`\n",
    "\n",
    "`scipy` presents a simpler solution to developing a confidence interval. To use this, first import the `stats` module from `scipy`."
   ]
  },
  {
   "cell_type": "code",
   "execution_count": 20,
   "id": "ff6187c3",
   "metadata": {
    "id": "0b6d2ecc-03ff-47ab-9d2d-57857fc38ca0"
   },
   "outputs": [],
   "source": [
    "# Import stats from scipy."
   ]
  },
  {
   "cell_type": "markdown",
   "id": "d2abedd3",
   "metadata": {
    "id": "ba8af068-f28e-4c29-82c9-238bc0f16ed1"
   },
   "source": [
    "## Step 4: Results and evaluation\n",
    "\n",
    "### Recalculate your confidence interval\n",
    "\n",
    "Provide your chosen `confidence_level`, `sample_mean`, and `standard_error` to `stats.norm.interval()` and recalculate your confidence interval."
   ]
  },
  {
   "cell_type": "code",
   "execution_count": 18,
   "id": "14446bca",
   "metadata": {
    "id": "f908eb99-ce5c-472f-891e-80a47cef5fed"
   },
   "outputs": [
    {
     "data": {
      "text/plain": [
       "(np.float64(2.2678142315123204), np.float64(2.5584833052235054))"
      ]
     },
     "execution_count": 18,
     "metadata": {},
     "output_type": "execute_result"
    }
   ],
   "source": [
    "# Code Here\n",
    "stats.norm.interval(0.95, loc=mean_aqi_ca, scale=stadard_error)"
   ]
  },
  {
   "cell_type": "markdown",
   "id": "392f0bc8",
   "metadata": {
    "id": "feb3e273-1aab-4965-bceb-8b8933c743b5"
   },
   "source": [
    "# Considerations"
   ]
  },
  {
   "cell_type": "markdown",
   "id": "f483a36d",
   "metadata": {},
   "source": [
    "**What are some key takeaways that you learned from this project?**\n",
    "\n",
    "A:I can use stats.norm.interval to calculate confidence interval"
   ]
  },
  {
   "cell_type": "markdown",
   "id": "92af6be3",
   "metadata": {},
   "source": [
    "**What findings would you share with others?**\n",
    "\n",
    "A:That using stats.norm.interval() is the fasttest way to calculate confidence interval."
   ]
  },
  {
   "cell_type": "markdown",
   "id": "a57f611c",
   "metadata": {},
   "source": [
    "**What would you convey to external readers?**\n",
    "\n",
    "A:"
   ]
  },
  {
   "cell_type": "markdown",
   "id": "8c17ac1e",
   "metadata": {
    "id": "0IVWUekbeFEq"
   },
   "source": [
    "**References**\n",
    "\n",
    "[seaborn.boxplot — seaborn 0.12.1 documentation](https://seaborn.pydata.org/generated/seaborn.boxplot.html). (n.d.). "
   ]
  }
 ],
 "metadata": {
  "colab": {
   "collapsed_sections": [],
   "provenance": []
  },
  "kernelspec": {
   "display_name": "Python 3",
   "language": "python",
   "name": "python3"
  },
  "language_info": {
   "codemirror_mode": {
    "name": "ipython",
    "version": 3
   },
   "file_extension": ".py",
   "mimetype": "text/x-python",
   "name": "python",
   "nbconvert_exporter": "python",
   "pygments_lexer": "ipython3",
   "version": "3.13.1"
  }
 },
 "nbformat": 4,
 "nbformat_minor": 5
}
